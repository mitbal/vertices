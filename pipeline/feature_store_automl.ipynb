{
 "cells": [
  {
   "cell_type": "code",
   "execution_count": 1,
   "metadata": {},
   "outputs": [],
   "source": [
    "from kfp.v2 import compiler\n",
    "from kfp.v2.dsl import component, pipeline"
   ]
  },
  {
   "cell_type": "code",
   "execution_count": 2,
   "metadata": {},
   "outputs": [],
   "source": [
    "from google.cloud import aiplatform as vertex\n",
    "from google_cloud_pipeline_components import aiplatform as vc"
   ]
  },
  {
   "cell_type": "code",
   "execution_count": 3,
   "metadata": {},
   "outputs": [],
   "source": [
    "BUCKET_NAME = 'gs://mitochondrion-bucket-sg'\n",
    "PIPELINE_ROOT = f'{BUCKET_NAME}/pipelines'\n",
    "PIPELINE_NAME = 'feature-store-automl'\n",
    "\n",
    "PROJECT_ID = 'mitochondrion-project-344303'\n",
    "REGION = 'asia-southeast1'"
   ]
  },
  {
   "cell_type": "code",
   "execution_count": 4,
   "metadata": {},
   "outputs": [],
   "source": [
    "@component(base_image='google/cloud-sdk:latest',\n",
    "            packages_to_install=['pandas==1.3.4',\n",
    "                                'pandas-gbq==0.17.4',\n",
    "                                'google-cloud-bigquery==2.34.2',\n",
    "                                'google-cloud-aiplatform==1.11.0',\n",
    "                                'fsspec==2022.3.0',\n",
    "                                'gcsfs==2022.3.0'\n",
    "            ]\n",
    ")\n",
    "def get_dataset_from_fs(current_date: str = '2022-01-01',\n",
    "                        project_id: str ='mitochondrion-project-344303',\n",
    "                        region: str ='asia-southeast1') -> str:\n",
    "\n",
    "    from datetime import datetime, timedelta\n",
    "\n",
    "    import pandas as pd\n",
    "    from google.cloud import aiplatform as vertex\n",
    "\n",
    "    start_date = (datetime.strptime(current_date, '%Y-%m-%d') - timedelta(days=7*4)).strftime('%Y-%m-%d')\n",
    "\n",
    "    query = \"\"\"\n",
    "        SELECT\n",
    "            user_id, created_date, conversion\n",
    "        FROM\n",
    "            `mitochondrion-project-344303.dataset.marketing`\n",
    "        WHERE\n",
    "            created_date >= '{start_date}'\n",
    "            AND created_date <= '{current_date}'\n",
    "    \"\"\".format(start_date=start_date, current_date=current_date)\n",
    "\n",
    "    df = pd.read_gbq(query, project_id=project_id, dialect='standard')\n",
    "\n",
    "    vertex.init(project=project_id, location=region)\n",
    "\n",
    "    read_instance_df = pd.DataFrame()\n",
    "    read_instance_df['users'] = df['user_id'].astype(str)\n",
    "    read_instance_df['timestamp'] = [datetime.strptime(x, '%Y-%m-%d') for x in df['created_date']]\n",
    "\n",
    "    # read_instance_df['users'] = [f'UID{i:04d}' for i in range(1, 101)]\n",
    "    # read_instance_df['timestamp'] = [datetime.strptime('2022-03-31', '%Y-%m-%d')] * 100\n",
    "\n",
    "    fs = vertex.featurestore.Featurestore(featurestore_name='marketing_featurestore')\n",
    "    training_feature = {\n",
    "        'users': ['channel', 'history', 'zip_code']\n",
    "    }\n",
    "\n",
    "    training_df = fs.batch_serve_to_df(\n",
    "        serving_feature_ids=training_feature,\n",
    "        read_instances_df=read_instance_df,\n",
    "    )\n",
    "    training_df['conversion'] = df['conversion']\n",
    "    training_df = training_df.drop(columns=['entity_type_users', 'timestamp'])\n",
    "\n",
    "    filepath = f'gs://mitochondrion-bucket-sg/datasets/from_fs.csv'\n",
    "    training_df.to_csv(filepath, index=False)\n",
    "\n",
    "    return filepath\n"
   ]
  },
  {
   "cell_type": "code",
   "execution_count": 5,
   "metadata": {},
   "outputs": [],
   "source": [
    "@pipeline(\n",
    "    pipeline_root=PIPELINE_ROOT,\n",
    "    name=PIPELINE_NAME,\n",
    ")\n",
    "def custom_pipeline(\n",
    "    project: str = PROJECT_ID,\n",
    "    current_date: str = '2022-01-01',\n",
    "    display_name: str = PIPELINE_NAME,\n",
    "):\n",
    "    \n",
    "    data = get_dataset_from_fs(current_date=current_date,\n",
    "                                project_id=project)\n",
    "\n",
    "    dataset = vc.TabularDatasetCreateOp(\n",
    "        project=project,\n",
    "        display_name=display_name,\n",
    "        gcs_source=data.output\n",
    "    )\n",
    "\n",
    "    model = vc.AutoMLTabularTrainingJobRunOp(\n",
    "        project=project,\n",
    "        display_name=display_name,\n",
    "        dataset=dataset.outputs['dataset'],\n",
    "        target_column='conversion',\n",
    "        budget_milli_node_hours=1000,\n",
    "        optimization_prediction_type='classification',\n",
    "    )\n",
    "\n",
    "    endpoint = vc.EndpointCreateOp(\n",
    "        project=project,\n",
    "        location=REGION,\n",
    "        display_name=display_name,\n",
    "    )\n",
    "\n",
    "    vc.ModelDeployOp(\n",
    "        model=model.outputs['model'],\n",
    "        endpoint=endpoint.outputs['endpoint'],\n",
    "        automatic_resources_min_replica_count=1,\n",
    "        automatic_resources_max_replica_count=1\n",
    "    )\n",
    "    "
   ]
  },
  {
   "cell_type": "code",
   "execution_count": 6,
   "metadata": {},
   "outputs": [
    {
     "name": "stderr",
     "output_type": "stream",
     "text": [
      "/home/mitbal/miniconda3/lib/python3.9/site-packages/kfp/v2/compiler/compiler.py:1263: FutureWarning: APIs imported from the v1 namespace (e.g. kfp.dsl, kfp.components, etc) will not be supported by the v2 compiler since v2.0.0\n",
      "  warnings.warn(\n"
     ]
    }
   ],
   "source": [
    "JSON_FILE = 'feature_store_automl.json'\n",
    "\n",
    "compiler.Compiler().compile(\n",
    "    pipeline_func=custom_pipeline,\n",
    "    package_path=JSON_FILE\n",
    ")"
   ]
  },
  {
   "cell_type": "code",
   "execution_count": 7,
   "metadata": {},
   "outputs": [
    {
     "name": "stdout",
     "output_type": "stream",
     "text": [
      "INFO:google.cloud.aiplatform.pipeline_jobs:Creating PipelineJob\n",
      "INFO:google.cloud.aiplatform.pipeline_jobs:PipelineJob created. Resource name: projects/832137092875/locations/asia-southeast1/pipelineJobs/feature-store-automl-20220422110912\n",
      "INFO:google.cloud.aiplatform.pipeline_jobs:To use this PipelineJob in another session:\n",
      "INFO:google.cloud.aiplatform.pipeline_jobs:pipeline_job = aiplatform.PipelineJob.get('projects/832137092875/locations/asia-southeast1/pipelineJobs/feature-store-automl-20220422110912')\n",
      "INFO:google.cloud.aiplatform.pipeline_jobs:View Pipeline Job:\n",
      "https://console.cloud.google.com/vertex-ai/locations/asia-southeast1/pipelines/runs/feature-store-automl-20220422110912?project=832137092875\n"
     ]
    }
   ],
   "source": [
    "from google.cloud import aiplatform as vertex\n",
    "\n",
    "job = vertex.PipelineJob(\n",
    "    display_name = PIPELINE_NAME,\n",
    "    template_path = JSON_FILE,\n",
    "    enable_caching = True,\n",
    "    project = PROJECT_ID,\n",
    "    location = REGION,\n",
    "    parameter_values = {\n",
    "        'current_date': '2022-03-31'\n",
    "    }\n",
    ")\n",
    "\n",
    "# job.submit()\n",
    "job.submit(service_account='default@mitochondrion-project-344303.iam.gserviceaccount.com')"
   ]
  },
  {
   "cell_type": "code",
   "execution_count": null,
   "metadata": {},
   "outputs": [],
   "source": []
  }
 ],
 "metadata": {
  "interpreter": {
   "hash": "0c5188a96b217161fb1c005f727af44fe0ad9ac935c05b782336afa836d834ed"
  },
  "kernelspec": {
   "display_name": "Python 3.9.1 ('base')",
   "language": "python",
   "name": "python3"
  },
  "language_info": {
   "codemirror_mode": {
    "name": "ipython",
    "version": 3
   },
   "file_extension": ".py",
   "mimetype": "text/x-python",
   "name": "python",
   "nbconvert_exporter": "python",
   "pygments_lexer": "ipython3",
   "version": "3.9.1"
  },
  "orig_nbformat": 4
 },
 "nbformat": 4,
 "nbformat_minor": 2
}
