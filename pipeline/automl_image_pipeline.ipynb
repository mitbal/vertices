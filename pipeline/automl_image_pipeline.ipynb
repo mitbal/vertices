{
 "cells": [
  {
   "cell_type": "code",
   "execution_count": 1,
   "metadata": {},
   "outputs": [],
   "source": [
    "from kfp.v2 import dsl, compiler\n",
    "\n",
    "import google.cloud.aiplatform as vertex\n",
    "from google_cloud_pipeline_components import aiplatform as vc"
   ]
  },
  {
   "cell_type": "code",
   "execution_count": 2,
   "metadata": {},
   "outputs": [],
   "source": [
    "REGION = 'us-central1'\n",
    "PROJECT_ID = 'mitochondrion-project-344303'\n",
    "\n",
    "BUCKET_NAME = 'gs://mitochondrion-bucket-sg'\n",
    "PIPELINE_ROOT = f'{BUCKET_NAME}/pipelines'\n",
    "PIPELINE_NAME = 'facemask-automl-pipeline'\n",
    "\n",
    "JSON_FILE = 'facemask_automl_pipeline.json'"
   ]
  },
  {
   "cell_type": "code",
   "execution_count": 4,
   "metadata": {},
   "outputs": [],
   "source": [
    "@dsl.pipeline(name=PIPELINE_NAME, pipeline_root=PIPELINE_ROOT)\n",
    "def pipeline(\n",
    "    display_name: str = PIPELINE_NAME,\n",
    "    project: str = PROJECT_ID,\n",
    "    annotation_file: str = 'gs://mitochondrion-bucket-us/datasets/facemask/annotations/train.csv',\n",
    "):\n",
    "\n",
    "    dataset = vc.ImageDatasetCreateOp(\n",
    "        project=project,\n",
    "        display_name=display_name,\n",
    "        gcs_source=annotation_file,\n",
    "        import_schema_uri=vertex.schema.dataset.ioformat.image.bounding_box\n",
    "    )\n",
    "\n",
    "    model_training = vc.AutoMLImageTrainingJobRunOp(\n",
    "        project=project,\n",
    "        display_name=display_name,\n",
    "        dataset=dataset.outputs['dataset'],\n",
    "        prediction_type='object_detection'\n",
    "    )\n",
    "\n",
    "    endpoint = vc.EndpointCreateOp(\n",
    "        project=project,\n",
    "        location=REGION,\n",
    "        display_name=display_name,\n",
    "    )\n",
    "\n",
    "    vc.ModelDeployOp(\n",
    "        model=model_training.outputs['model'],\n",
    "        endpoint=endpoint.outputs['endpoint'],\n",
    "        automatic_resources_min_replica_count=1,\n",
    "        automatic_resources_max_replica_count=1\n",
    "    )"
   ]
  },
  {
   "cell_type": "code",
   "execution_count": 5,
   "metadata": {},
   "outputs": [
    {
     "name": "stderr",
     "output_type": "stream",
     "text": [
      "/home/mitbal/miniconda3/lib/python3.9/site-packages/kfp/v2/compiler/compiler.py:1263: FutureWarning: APIs imported from the v1 namespace (e.g. kfp.dsl, kfp.components, etc) will not be supported by the v2 compiler since v2.0.0\n",
      "  warnings.warn(\n"
     ]
    }
   ],
   "source": [
    "compiler.Compiler().compile(\n",
    "    pipeline_func=pipeline,\n",
    "    package_path=JSON_FILE\n",
    ")"
   ]
  },
  {
   "cell_type": "code",
   "execution_count": 6,
   "metadata": {},
   "outputs": [
    {
     "name": "stdout",
     "output_type": "stream",
     "text": [
      "INFO:google.cloud.aiplatform.pipeline_jobs:Creating PipelineJob\n",
      "INFO:google.cloud.aiplatform.pipeline_jobs:PipelineJob created. Resource name: projects/832137092875/locations/us-central1/pipelineJobs/facemask-automl-pipeline-20220329151247\n",
      "INFO:google.cloud.aiplatform.pipeline_jobs:To use this PipelineJob in another session:\n",
      "INFO:google.cloud.aiplatform.pipeline_jobs:pipeline_job = aiplatform.PipelineJob.get('projects/832137092875/locations/us-central1/pipelineJobs/facemask-automl-pipeline-20220329151247')\n",
      "INFO:google.cloud.aiplatform.pipeline_jobs:View Pipeline Job:\n",
      "https://console.cloud.google.com/vertex-ai/locations/us-central1/pipelines/runs/facemask-automl-pipeline-20220329151247?project=832137092875\n"
     ]
    }
   ],
   "source": [
    "from google.cloud import aiplatform\n",
    "\n",
    "job = aiplatform.PipelineJob(\n",
    "    display_name = PIPELINE_NAME,\n",
    "    template_path = JSON_FILE,\n",
    "    enable_caching = True,\n",
    "    project = PROJECT_ID,\n",
    "    location = REGION,\n",
    "    parameter_values = {\n",
    "        'annotation_file': 'gs://mitochondrion-bucket-us/project/facemask/2022-01-01/facemask_annotations.csv'\n",
    "    }\n",
    ")\n",
    "\n",
    "# job.submit()\n",
    "job.submit(service_account='default@mitochondrion-project-344303.iam.gserviceaccount.com')\n"
   ]
  },
  {
   "cell_type": "code",
   "execution_count": null,
   "metadata": {},
   "outputs": [],
   "source": []
  }
 ],
 "metadata": {
  "interpreter": {
   "hash": "0c5188a96b217161fb1c005f727af44fe0ad9ac935c05b782336afa836d834ed"
  },
  "kernelspec": {
   "display_name": "Python 3.9.1 ('base')",
   "language": "python",
   "name": "python3"
  },
  "language_info": {
   "codemirror_mode": {
    "name": "ipython",
    "version": 3
   },
   "file_extension": ".py",
   "mimetype": "text/x-python",
   "name": "python",
   "nbconvert_exporter": "python",
   "pygments_lexer": "ipython3",
   "version": "3.9.1"
  },
  "orig_nbformat": 4
 },
 "nbformat": 4,
 "nbformat_minor": 2
}
