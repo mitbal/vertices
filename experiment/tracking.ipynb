{
 "cells": [
  {
   "cell_type": "code",
   "execution_count": 1,
   "metadata": {},
   "outputs": [],
   "source": [
    "import numpy as np\n",
    "import pandas as pd\n",
    "import seaborn as sns"
   ]
  },
  {
   "cell_type": "code",
   "execution_count": 2,
   "metadata": {},
   "outputs": [
    {
     "data": {
      "text/html": [
       "<div>\n",
       "<style scoped>\n",
       "    .dataframe tbody tr th:only-of-type {\n",
       "        vertical-align: middle;\n",
       "    }\n",
       "\n",
       "    .dataframe tbody tr th {\n",
       "        vertical-align: top;\n",
       "    }\n",
       "\n",
       "    .dataframe thead th {\n",
       "        text-align: right;\n",
       "    }\n",
       "</style>\n",
       "<table border=\"1\" class=\"dataframe\">\n",
       "  <thead>\n",
       "    <tr style=\"text-align: right;\">\n",
       "      <th></th>\n",
       "      <th>sepal_length</th>\n",
       "      <th>sepal_width</th>\n",
       "      <th>petal_length</th>\n",
       "      <th>petal_width</th>\n",
       "      <th>species</th>\n",
       "    </tr>\n",
       "  </thead>\n",
       "  <tbody>\n",
       "    <tr>\n",
       "      <th>0</th>\n",
       "      <td>5.1</td>\n",
       "      <td>3.5</td>\n",
       "      <td>1.4</td>\n",
       "      <td>0.2</td>\n",
       "      <td>setosa</td>\n",
       "    </tr>\n",
       "    <tr>\n",
       "      <th>1</th>\n",
       "      <td>4.9</td>\n",
       "      <td>3.0</td>\n",
       "      <td>1.4</td>\n",
       "      <td>0.2</td>\n",
       "      <td>setosa</td>\n",
       "    </tr>\n",
       "    <tr>\n",
       "      <th>2</th>\n",
       "      <td>4.7</td>\n",
       "      <td>3.2</td>\n",
       "      <td>1.3</td>\n",
       "      <td>0.2</td>\n",
       "      <td>setosa</td>\n",
       "    </tr>\n",
       "    <tr>\n",
       "      <th>3</th>\n",
       "      <td>4.6</td>\n",
       "      <td>3.1</td>\n",
       "      <td>1.5</td>\n",
       "      <td>0.2</td>\n",
       "      <td>setosa</td>\n",
       "    </tr>\n",
       "    <tr>\n",
       "      <th>4</th>\n",
       "      <td>5.0</td>\n",
       "      <td>3.6</td>\n",
       "      <td>1.4</td>\n",
       "      <td>0.2</td>\n",
       "      <td>setosa</td>\n",
       "    </tr>\n",
       "  </tbody>\n",
       "</table>\n",
       "</div>"
      ],
      "text/plain": [
       "   sepal_length  sepal_width  petal_length  petal_width species\n",
       "0           5.1          3.5           1.4          0.2  setosa\n",
       "1           4.9          3.0           1.4          0.2  setosa\n",
       "2           4.7          3.2           1.3          0.2  setosa\n",
       "3           4.6          3.1           1.5          0.2  setosa\n",
       "4           5.0          3.6           1.4          0.2  setosa"
      ]
     },
     "execution_count": 2,
     "metadata": {},
     "output_type": "execute_result"
    }
   ],
   "source": [
    "iris = sns.load_dataset('iris')\n",
    "iris.head()"
   ]
  },
  {
   "cell_type": "code",
   "execution_count": 3,
   "metadata": {},
   "outputs": [],
   "source": [
    "from google.cloud import aiplatform as vertex"
   ]
  },
  {
   "cell_type": "code",
   "execution_count": 4,
   "metadata": {},
   "outputs": [],
   "source": [
    "PROJECT_ID = 'mitochondrion-project-344303'\n",
    "EXPERIMENT_NAME = 'iris-xgboost'\n",
    "REGION = 'asia-southeast1'"
   ]
  },
  {
   "cell_type": "code",
   "execution_count": 5,
   "metadata": {},
   "outputs": [],
   "source": [
    "vertex.init(\n",
    "    project=PROJECT_ID, experiment=EXPERIMENT_NAME, location=REGION\n",
    ")"
   ]
  },
  {
   "cell_type": "code",
   "execution_count": 6,
   "metadata": {},
   "outputs": [],
   "source": [
    "X = iris.loc[:, 'sepal_length':'petal_width'].values\n",
    "y = iris['species'].values"
   ]
  },
  {
   "cell_type": "code",
   "execution_count": 7,
   "metadata": {},
   "outputs": [],
   "source": [
    "from sklearn.model_selection import train_test_split"
   ]
  },
  {
   "cell_type": "code",
   "execution_count": 8,
   "metadata": {},
   "outputs": [],
   "source": [
    "X_train, X_test, y_train, y_test = train_test_split(X, y, test_size=0.2, random_state=41)"
   ]
  },
  {
   "cell_type": "code",
   "execution_count": 9,
   "metadata": {},
   "outputs": [
    {
     "name": "stderr",
     "output_type": "stream",
     "text": [
      "/home/mitbal/miniconda3/lib/python3.9/site-packages/xgboost/compat.py:36: FutureWarning: pandas.Int64Index is deprecated and will be removed from pandas in a future version. Use pandas.Index with the appropriate dtype instead.\n",
      "  from pandas import MultiIndex, Int64Index\n"
     ]
    }
   ],
   "source": [
    "import xgboost as xgb"
   ]
  },
  {
   "cell_type": "code",
   "execution_count": 10,
   "metadata": {},
   "outputs": [],
   "source": [
    "max_depths = [5, 10, 15]\n",
    "learning_rates = [0.3, 0.6, 0.9]"
   ]
  },
  {
   "cell_type": "code",
   "execution_count": 11,
   "metadata": {},
   "outputs": [],
   "source": [
    "import warnings\n",
    "warnings.filterwarnings(\"ignore\")"
   ]
  },
  {
   "cell_type": "code",
   "execution_count": 12,
   "metadata": {},
   "outputs": [
    {
     "name": "stdout",
     "output_type": "stream",
     "text": [
      "Associating projects/832137092875/locations/asia-southeast1/metadataStores/default/contexts/iris-xgboost-run-0 to Experiment: iris-xgboost\n",
      "Associating projects/832137092875/locations/asia-southeast1/metadataStores/default/contexts/iris-xgboost-run-1 to Experiment: iris-xgboost\n",
      "Associating projects/832137092875/locations/asia-southeast1/metadataStores/default/contexts/iris-xgboost-run-2 to Experiment: iris-xgboost\n",
      "Associating projects/832137092875/locations/asia-southeast1/metadataStores/default/contexts/iris-xgboost-run-3 to Experiment: iris-xgboost\n",
      "Associating projects/832137092875/locations/asia-southeast1/metadataStores/default/contexts/iris-xgboost-run-4 to Experiment: iris-xgboost\n",
      "Associating projects/832137092875/locations/asia-southeast1/metadataStores/default/contexts/iris-xgboost-run-5 to Experiment: iris-xgboost\n",
      "Associating projects/832137092875/locations/asia-southeast1/metadataStores/default/contexts/iris-xgboost-run-6 to Experiment: iris-xgboost\n",
      "Associating projects/832137092875/locations/asia-southeast1/metadataStores/default/contexts/iris-xgboost-run-7 to Experiment: iris-xgboost\n",
      "Associating projects/832137092875/locations/asia-southeast1/metadataStores/default/contexts/iris-xgboost-run-8 to Experiment: iris-xgboost\n"
     ]
    }
   ],
   "source": [
    "counter = 0\n",
    "for depth in max_depths:\n",
    "    for rate in learning_rates:\n",
    "\n",
    "        vertex.start_run(f'run-{counter}')\n",
    "        counter += 1\n",
    "        \n",
    "        xgb_model = xgb.XGBClassifier(objective='multi:softprob', random_state=41,\n",
    "            learning_rate=rate, max_depth=depth, eval_metric='mlogloss')\n",
    "\n",
    "        vertex.log_params({\n",
    "            'learning_rate': rate,\n",
    "            'max_depth': depth\n",
    "        })\n",
    "\n",
    "        xgb_model.fit(X=X_train, y=y_train)\n",
    "\n",
    "        train_acc = np.sum(xgb_model.predict(X_train) == y_train) / len(y_train)\n",
    "        test_acc = np.sum(xgb_model.predict(X_test) == y_test) / len(y_test)\n",
    "\n",
    "        vertex.log_metrics({\n",
    "            'train_acc': train_acc,\n",
    "            'test_acc': test_acc\n",
    "        })\n",
    "\n",
    "        vertex.end_run()"
   ]
  },
  {
   "cell_type": "code",
   "execution_count": null,
   "metadata": {},
   "outputs": [],
   "source": []
  },
  {
   "cell_type": "code",
   "execution_count": null,
   "metadata": {},
   "outputs": [],
   "source": []
  }
 ],
 "metadata": {
  "interpreter": {
   "hash": "0c5188a96b217161fb1c005f727af44fe0ad9ac935c05b782336afa836d834ed"
  },
  "kernelspec": {
   "display_name": "Python 3.9.1 ('base')",
   "language": "python",
   "name": "python3"
  },
  "language_info": {
   "codemirror_mode": {
    "name": "ipython",
    "version": 3
   },
   "file_extension": ".py",
   "mimetype": "text/x-python",
   "name": "python",
   "nbconvert_exporter": "python",
   "pygments_lexer": "ipython3",
   "version": "3.9.1"
  },
  "orig_nbformat": 4
 },
 "nbformat": 4,
 "nbformat_minor": 2
}
