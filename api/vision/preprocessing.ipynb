{
 "cells": [
  {
   "cell_type": "code",
   "execution_count": 5,
   "metadata": {},
   "outputs": [],
   "source": [
    "def ocr(filename):\n",
    "\n",
    "    from google.cloud import vision\n",
    "    client = vision.ImageAnnotatorClient()\n",
    "\n",
    "    with open(filename, 'rb') as img_file:\n",
    "        content = img_file.read()\n",
    "    img = vision.Image(content=content)\n",
    "\n",
    "    response = client.text_detection(image=img)\n",
    "    texts = response.text_annotations\n",
    "\n",
    "    print(texts[0].description)"
   ]
  },
  {
   "cell_type": "code",
   "execution_count": 7,
   "metadata": {},
   "outputs": [],
   "source": [
    "def plot_image(filename):\n",
    "\n",
    "    import cv2\n",
    "    import matplotlib.pyplot as plt\n",
    "\n",
    "    img = cv2.imread(filename)\n",
    "    plt.imshow(img)"
   ]
  },
  {
   "cell_type": "code",
   "execution_count": 6,
   "metadata": {},
   "outputs": [
    {
     "name": "stdout",
     "output_type": "stream",
     "text": [
      "NIK : 3510243006730004\n",
      "Nava\n",
      "Tempat Tgl Lahir\n",
      "Jene Kemn\n",
      "Alamat\n",
      "AIRW\n",
      "KelDesa\n",
      "Kecamatan\n",
      "PROVINSI JAWA\n",
      "KABUPATEN BANYUWANGI\n",
      "Kervarganegaraan\n",
      "Berlaku Hingga\n",
      "TUHAN\n",
      "BANYUWANGA 30-06-1973\n",
      "LAKI-LAKI\n",
      "DUSUN KRAJAN\n",
      "001/002\n",
      "KLUNGING\n",
      "LICIN\n",
      "ISLAM\n",
      "Agama\n",
      "Status Perkawinan: KAWIN\n",
      "Pekerjaan\n",
      "WIRASWASTA\n",
      "WNI\n",
      "30-06-2017\n",
      "Gol Darah\n",
      "BANYUWANGI\n",
      "07-10-2012\n",
      "<\n"
     ]
    }
   ],
   "source": [
    "ocr('ktp_tuhan.jpg')"
   ]
  },
  {
   "cell_type": "code",
   "execution_count": null,
   "metadata": {},
   "outputs": [],
   "source": []
  }
 ],
 "metadata": {
  "kernelspec": {
   "display_name": "Python 3.9.1 ('base')",
   "language": "python",
   "name": "python3"
  },
  "language_info": {
   "codemirror_mode": {
    "name": "ipython",
    "version": 3
   },
   "file_extension": ".py",
   "mimetype": "text/x-python",
   "name": "python",
   "nbconvert_exporter": "python",
   "pygments_lexer": "ipython3",
   "version": "3.9.1"
  },
  "orig_nbformat": 4,
  "vscode": {
   "interpreter": {
    "hash": "0c5188a96b217161fb1c005f727af44fe0ad9ac935c05b782336afa836d834ed"
   }
  }
 },
 "nbformat": 4,
 "nbformat_minor": 2
}
