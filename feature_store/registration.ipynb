{
 "cells": [
  {
   "cell_type": "code",
   "execution_count": 1,
   "metadata": {},
   "outputs": [],
   "source": [
    "from google.cloud import aiplatform as vertex"
   ]
  },
  {
   "cell_type": "code",
   "execution_count": 2,
   "metadata": {},
   "outputs": [],
   "source": [
    "REGION = 'asia-southeast1'\n",
    "PROJECT_ID = 'mitochondrion-project-344303'"
   ]
  },
  {
   "cell_type": "code",
   "execution_count": 3,
   "metadata": {},
   "outputs": [],
   "source": [
    "vertex.init(project=PROJECT_ID, location=REGION)"
   ]
  },
  {
   "cell_type": "code",
   "execution_count": 4,
   "metadata": {},
   "outputs": [
    {
     "name": "stdout",
     "output_type": "stream",
     "text": [
      "featurestore already exists\n"
     ]
    }
   ],
   "source": [
    "try:\n",
    "    fs = vertex.Featurestore.create(\n",
    "        featurestore_id='marketing_featurestore',\n",
    "        online_store_fixed_node_count=1\n",
    "    )\n",
    "except:\n",
    "    print('featurestore already exists')\n",
    "    fs = vertex.featurestore.Featurestore(\n",
    "        featurestore_name='marketing_featurestore', \n",
    "        project=PROJECT_ID, \n",
    "        location=REGION\n",
    "    )"
   ]
  },
  {
   "cell_type": "code",
   "execution_count": 5,
   "metadata": {},
   "outputs": [
    {
     "name": "stdout",
     "output_type": "stream",
     "text": [
      "Entity type users already exists\n"
     ]
    }
   ],
   "source": [
    "try:\n",
    "    user_entity_type = fs.create_entity_type(\n",
    "        entity_type_id='users',\n",
    "        description='User entity'\n",
    "    )\n",
    "except:\n",
    "    print(f'Entity type users already exists')\n",
    "    user_entity_type = vertex.featurestore.EntityType(\n",
    "        entity_type_name='users', featurestore_id='marketing_featurestore'\n",
    ")"
   ]
  },
  {
   "cell_type": "code",
   "execution_count": 6,
   "metadata": {},
   "outputs": [
    {
     "name": "stdout",
     "output_type": "stream",
     "text": [
      "Feature channel already exists\n"
     ]
    }
   ],
   "source": [
    "try:\n",
    "    users_feature_channel = user_entity_type.create_feature(\n",
    "        feature_id='channel',\n",
    "        value_type='STRING',\n",
    "        description='last channel user accessed the store'\n",
    "    )\n",
    "except:\n",
    "    print(f'Feature channel already exists')"
   ]
  },
  {
   "cell_type": "code",
   "execution_count": 7,
   "metadata": {},
   "outputs": [
    {
     "name": "stdout",
     "output_type": "stream",
     "text": [
      "INFO:google.cloud.aiplatform.featurestore.entity_type:Batch creating features EntityType entityType: projects/832137092875/locations/asia-southeast1/featurestores/marketing_featurestore/entityTypes/users\n",
      "Features already exist\n"
     ]
    }
   ],
   "source": [
    "user_feature_configs = {\n",
    "    'history': {\n",
    "        'value_type': 'DOUBLE',\n",
    "        'description': 'value of historical purchases'\n",
    "    },\n",
    "    'zip_code': {\n",
    "        'value_type': 'STRING',\n",
    "        'description': 'class of zip code, either Suburban/Urban/Rural'\n",
    "    }\n",
    "}\n",
    "\n",
    "try:\n",
    "    user_feature_other = user_entity_type.batch_create_features(\n",
    "    feature_configs=user_feature_configs\n",
    "    )\n",
    "except:\n",
    "    print(f'Features already exist')"
   ]
  },
  {
   "cell_type": "code",
   "execution_count": null,
   "metadata": {},
   "outputs": [],
   "source": []
  }
 ],
 "metadata": {
  "interpreter": {
   "hash": "0c5188a96b217161fb1c005f727af44fe0ad9ac935c05b782336afa836d834ed"
  },
  "kernelspec": {
   "display_name": "Python 3.9.1 ('base')",
   "language": "python",
   "name": "python3"
  },
  "language_info": {
   "codemirror_mode": {
    "name": "ipython",
    "version": 3
   },
   "file_extension": ".py",
   "mimetype": "text/x-python",
   "name": "python",
   "nbconvert_exporter": "python",
   "pygments_lexer": "ipython3",
   "version": "3.9.1"
  },
  "orig_nbformat": 4
 },
 "nbformat": 4,
 "nbformat_minor": 2
}
