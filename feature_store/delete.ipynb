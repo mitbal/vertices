{
 "cells": [
  {
   "cell_type": "code",
   "execution_count": 1,
   "metadata": {},
   "outputs": [],
   "source": [
    "from google.cloud import aiplatform as vertex"
   ]
  },
  {
   "cell_type": "code",
   "execution_count": 2,
   "metadata": {},
   "outputs": [],
   "source": [
    "REGION = 'asia-southeast1'\n",
    "PROJECT_ID = 'mitochondrion-project-344303'"
   ]
  },
  {
   "cell_type": "code",
   "execution_count": 3,
   "metadata": {},
   "outputs": [],
   "source": [
    "vertex.init(project=PROJECT_ID, location=REGION)"
   ]
  },
  {
   "cell_type": "code",
   "execution_count": 4,
   "metadata": {},
   "outputs": [],
   "source": [
    "# delete feature\n"
   ]
  },
  {
   "cell_type": "code",
   "execution_count": 5,
   "metadata": {},
   "outputs": [],
   "source": [
    "entity = vertex.featurestore.EntityType(\n",
    "    entity_type_name='users', featurestore_id='marketing_featurestore'\n",
    ")"
   ]
  },
  {
   "cell_type": "code",
   "execution_count": 6,
   "metadata": {},
   "outputs": [
    {
     "name": "stdout",
     "output_type": "stream",
     "text": [
      "INFO:google.cloud.aiplatform.base:Deleting Feature : projects/832137092875/locations/asia-southeast1/featurestores/marketing_featurestore/entityTypes/users/features/channel\n",
      "INFO:google.cloud.aiplatform.base:Delete Feature  backing LRO: projects/832137092875/locations/asia-southeast1/featurestores/8352523643284094976/operations/3222585018127745024\n",
      "INFO:google.cloud.aiplatform.base:Feature deleted. . Resource name: projects/832137092875/locations/asia-southeast1/featurestores/marketing_featurestore/entityTypes/users/features/channel\n"
     ]
    }
   ],
   "source": [
    "entity.delete_features(\n",
    "    feature_ids=['channel'],\n",
    "    sync=True\n",
    ")"
   ]
  },
  {
   "cell_type": "code",
   "execution_count": 7,
   "metadata": {},
   "outputs": [],
   "source": [
    "# delete entity type"
   ]
  },
  {
   "cell_type": "code",
   "execution_count": 8,
   "metadata": {},
   "outputs": [],
   "source": [
    "entity = vertex.featurestore.EntityType(\n",
    "    entity_type_name='users', featurestore_id='marketing_featurestore'\n",
    ")"
   ]
  },
  {
   "cell_type": "code",
   "execution_count": 9,
   "metadata": {},
   "outputs": [
    {
     "name": "stdout",
     "output_type": "stream",
     "text": [
      "INFO:google.cloud.aiplatform.featurestore.entity_type:Deleting EntityType : projects/832137092875/locations/asia-southeast1/featurestores/marketing_featurestore/entityTypes/users\n",
      "INFO:google.cloud.aiplatform.featurestore.entity_type:Delete EntityType  backing LRO: projects/832137092875/locations/asia-southeast1/featurestores/8352523643284094976/operations/8471530383828058112\n",
      "INFO:google.cloud.aiplatform.featurestore.entity_type:EntityType deleted. . Resource name: projects/832137092875/locations/asia-southeast1/featurestores/marketing_featurestore/entityTypes/users\n"
     ]
    }
   ],
   "source": [
    "entity.delete(sync=True, force=True)"
   ]
  },
  {
   "cell_type": "code",
   "execution_count": 10,
   "metadata": {},
   "outputs": [],
   "source": [
    "# delete featurestore"
   ]
  },
  {
   "cell_type": "code",
   "execution_count": 11,
   "metadata": {},
   "outputs": [],
   "source": [
    "fs = vertex.featurestore.Featurestore(featurestore_name='marketing_featurestore')"
   ]
  },
  {
   "cell_type": "code",
   "execution_count": 12,
   "metadata": {},
   "outputs": [
    {
     "name": "stdout",
     "output_type": "stream",
     "text": [
      "INFO:google.cloud.aiplatform.featurestore.featurestore:Deleting Featurestore : projects/832137092875/locations/asia-southeast1/featurestores/marketing_featurestore\n",
      "INFO:google.cloud.aiplatform.featurestore.featurestore:Delete Featurestore  backing LRO: projects/832137092875/locations/asia-southeast1/operations/6019320386724823040\n",
      "INFO:google.cloud.aiplatform.featurestore.featurestore:Featurestore deleted. . Resource name: projects/832137092875/locations/asia-southeast1/featurestores/marketing_featurestore\n"
     ]
    }
   ],
   "source": [
    "fs.delete(sync=True, force=True)"
   ]
  },
  {
   "cell_type": "code",
   "execution_count": null,
   "metadata": {},
   "outputs": [],
   "source": []
  }
 ],
 "metadata": {
  "interpreter": {
   "hash": "0c5188a96b217161fb1c005f727af44fe0ad9ac935c05b782336afa836d834ed"
  },
  "kernelspec": {
   "display_name": "Python 3.9.1 ('base')",
   "language": "python",
   "name": "python3"
  },
  "language_info": {
   "codemirror_mode": {
    "name": "ipython",
    "version": 3
   },
   "file_extension": ".py",
   "mimetype": "text/x-python",
   "name": "python",
   "nbconvert_exporter": "python",
   "pygments_lexer": "ipython3",
   "version": "3.9.1"
  },
  "orig_nbformat": 4
 },
 "nbformat": 4,
 "nbformat_minor": 2
}
