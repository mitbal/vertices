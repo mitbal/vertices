{
 "cells": [
  {
   "cell_type": "code",
   "execution_count": 1,
   "metadata": {},
   "outputs": [],
   "source": [
    "from google.cloud import aiplatform as vertex"
   ]
  },
  {
   "cell_type": "code",
   "execution_count": 2,
   "metadata": {},
   "outputs": [],
   "source": [
    "REGION = 'asia-southeast1'\n",
    "PROJECT_ID = 'mitochondrion-project-344303'"
   ]
  },
  {
   "cell_type": "code",
   "execution_count": 3,
   "metadata": {},
   "outputs": [],
   "source": [
    "vertex.init(project=PROJECT_ID, location=REGION)"
   ]
  },
  {
   "cell_type": "code",
   "execution_count": 4,
   "metadata": {},
   "outputs": [
    {
     "name": "stdout",
     "output_type": "stream",
     "text": [
      "INFO:google.cloud.aiplatform.featurestore.featurestore:Creating Featurestore\n",
      "INFO:google.cloud.aiplatform.featurestore.featurestore:Create Featurestore backing LRO: projects/832137092875/locations/asia-southeast1/featurestores/marketing_featurestore/operations/3292390812351987712\n",
      "INFO:google.cloud.aiplatform.featurestore.featurestore:Featurestore created. Resource name: projects/832137092875/locations/asia-southeast1/featurestores/marketing_featurestore\n",
      "INFO:google.cloud.aiplatform.featurestore.featurestore:To use this Featurestore in another session:\n",
      "INFO:google.cloud.aiplatform.featurestore.featurestore:featurestore = aiplatform.Featurestore('projects/832137092875/locations/asia-southeast1/featurestores/marketing_featurestore')\n"
     ]
    }
   ],
   "source": [
    "try:\n",
    "    fs = vertex.Featurestore.create(\n",
    "        featurestore_id='marketing_featurestore',\n",
    "        online_store_fixed_node_count=1\n",
    "    )\n",
    "except:\n",
    "    print('featurestore already exists')\n",
    "    fs = vertex.featurestore.Featurestore(\n",
    "        featurestore_name='marketing_featurestore', \n",
    "        project=PROJECT_ID, \n",
    "        location=REGION\n",
    "    )"
   ]
  },
  {
   "cell_type": "code",
   "execution_count": 5,
   "metadata": {},
   "outputs": [
    {
     "name": "stdout",
     "output_type": "stream",
     "text": [
      "INFO:google.cloud.aiplatform.featurestore.entity_type:Creating EntityType\n",
      "INFO:google.cloud.aiplatform.featurestore.entity_type:Create EntityType backing LRO: projects/832137092875/locations/asia-southeast1/featurestores/marketing_featurestore/entityTypes/users/operations/4616449102798913536\n",
      "INFO:google.cloud.aiplatform.featurestore.entity_type:EntityType created. Resource name: projects/832137092875/locations/asia-southeast1/featurestores/marketing_featurestore/entityTypes/users\n",
      "INFO:google.cloud.aiplatform.featurestore.entity_type:To use this EntityType in another session:\n",
      "INFO:google.cloud.aiplatform.featurestore.entity_type:entity_type = aiplatform.EntityType('projects/832137092875/locations/asia-southeast1/featurestores/marketing_featurestore/entityTypes/users')\n"
     ]
    }
   ],
   "source": [
    "try:\n",
    "    user_entity_type = fs.create_entity_type(\n",
    "        entity_type_id='users',\n",
    "        description='User entity'\n",
    "    )\n",
    "except:\n",
    "    print(f'Entity type users already exists')\n",
    "    user_entity_type = vertex.featurestore.EntityType(\n",
    "        entity_type_name='users', featurestore_id='marketing_featurestore'\n",
    ")"
   ]
  },
  {
   "cell_type": "code",
   "execution_count": 6,
   "metadata": {},
   "outputs": [
    {
     "data": {
      "text/plain": [
       "name: \"projects/832137092875/locations/asia-southeast1/featurestores/marketing_featurestore/entityTypes/users\"\n",
       "description: \"User entity\"\n",
       "create_time {\n",
       "  seconds: 1650481581\n",
       "  nanos: 893759000\n",
       "}\n",
       "update_time {\n",
       "  seconds: 1650481587\n",
       "  nanos: 400045000\n",
       "}\n",
       "etag: \"AMEw9yN98gTnNlckhYhYgG51SDDRrPRi-ZmcNnniahO-aU4zym2MrgO2L9kOEC74DXt8\"\n",
       "monitoring_config {\n",
       "  snapshot_analysis {\n",
       "    monitoring_interval {\n",
       "      seconds: 604800\n",
       "    }\n",
       "    monitoring_interval_days: 7\n",
       "  }\n",
       "}"
      ]
     },
     "execution_count": 6,
     "metadata": {},
     "output_type": "execute_result"
    }
   ],
   "source": [
    "from google.protobuf.duration_pb2 import Duration\n",
    "from google.cloud.aiplatform_v1 import FeaturestoreServiceClient\n",
    "\n",
    "from google.cloud.aiplatform_v1beta1 import \\\n",
    "    FeaturestoreServiceClient as v1beta1_FeaturestoreServiceClient\n",
    "from google.cloud.aiplatform_v1beta1.types import \\\n",
    "    entity_type as v1beta1_entity_type_pb2\n",
    "from google.cloud.aiplatform_v1beta1.types import \\\n",
    "    featurestore_monitoring as v1beta1_featurestore_monitoring_pb2\n",
    "from google.cloud.aiplatform_v1beta1.types import \\\n",
    "    featurestore_service as v1beta1_featurestore_service_pb2\n",
    "\n",
    "FEATURESTORE_ID = 'marketing_featurestore'\n",
    "API_ENDPOINT = f'{REGION}-aiplatform.googleapis.com'\n",
    "\n",
    "admin_client = FeaturestoreServiceClient(client_options={\"api_endpoint\": API_ENDPOINT})\n",
    "\n",
    "v1beta1_admin_client = v1beta1_FeaturestoreServiceClient(\n",
    "    client_options={\"api_endpoint\": API_ENDPOINT}\n",
    ")\n",
    "\n",
    "v1beta1_admin_client.update_entity_type(\n",
    "    v1beta1_featurestore_service_pb2.UpdateEntityTypeRequest(\n",
    "        entity_type=v1beta1_entity_type_pb2.EntityType(\n",
    "            name=admin_client.entity_type_path(\n",
    "                PROJECT_ID, REGION, FEATURESTORE_ID, \"users\"\n",
    "            ),\n",
    "            monitoring_config=v1beta1_featurestore_monitoring_pb2.FeaturestoreMonitoringConfig(\n",
    "                snapshot_analysis=v1beta1_featurestore_monitoring_pb2.FeaturestoreMonitoringConfig.SnapshotAnalysis(\n",
    "                    monitoring_interval=Duration(seconds=86400*7),  # 1 week\n",
    "                ),\n",
    "            ),\n",
    "        ),\n",
    "    )\n",
    ")"
   ]
  },
  {
   "cell_type": "code",
   "execution_count": 7,
   "metadata": {},
   "outputs": [
    {
     "name": "stdout",
     "output_type": "stream",
     "text": [
      "INFO:google.cloud.aiplatform.featurestore.feature:Creating Feature\n",
      "INFO:google.cloud.aiplatform.featurestore.feature:Create Feature backing LRO: projects/832137092875/locations/asia-southeast1/featurestores/marketing_featurestore/operations/2310606093585219584\n",
      "INFO:google.cloud.aiplatform.featurestore.feature:Feature created. Resource name: projects/832137092875/locations/asia-southeast1/featurestores/marketing_featurestore/entityTypes/users/features/channel\n",
      "INFO:google.cloud.aiplatform.featurestore.feature:To use this Feature in another session:\n",
      "INFO:google.cloud.aiplatform.featurestore.feature:feature = aiplatform.Feature('projects/832137092875/locations/asia-southeast1/featurestores/marketing_featurestore/entityTypes/users/features/channel')\n"
     ]
    }
   ],
   "source": [
    "try:\n",
    "    users_feature_channel = user_entity_type.create_feature(\n",
    "        feature_id='channel',\n",
    "        value_type='STRING',\n",
    "        description='last channel user accessed the store'\n",
    "    )\n",
    "except:\n",
    "    print(f'Feature channel already exists')"
   ]
  },
  {
   "cell_type": "code",
   "execution_count": 8,
   "metadata": {},
   "outputs": [
    {
     "name": "stdout",
     "output_type": "stream",
     "text": [
      "INFO:google.cloud.aiplatform.featurestore.entity_type:Batch creating features EntityType entityType: projects/832137092875/locations/asia-southeast1/featurestores/marketing_featurestore/entityTypes/users\n",
      "INFO:google.cloud.aiplatform.featurestore.entity_type:Batch create Features EntityType entityType backing LRO: projects/832137092875/locations/asia-southeast1/featurestores/marketing_featurestore/operations/5080319864418074624\n",
      "INFO:google.cloud.aiplatform.featurestore.entity_type:EntityType entityType Batch created features. Resource name: projects/832137092875/locations/asia-southeast1/featurestores/marketing_featurestore/entityTypes/users\n"
     ]
    }
   ],
   "source": [
    "user_feature_configs = {\n",
    "    'history': {\n",
    "        'value_type': 'DOUBLE',\n",
    "        'description': 'value of historical purchases'\n",
    "    },\n",
    "    'zip_code': {\n",
    "        'value_type': 'STRING',\n",
    "        'description': 'class of zip code, either Suburban/Urban/Rural'\n",
    "    }\n",
    "}\n",
    "\n",
    "try:\n",
    "    user_feature_other = user_entity_type.batch_create_features(\n",
    "    feature_configs=user_feature_configs\n",
    "    )\n",
    "except:\n",
    "    print(f'Features already exist')"
   ]
  },
  {
   "cell_type": "code",
   "execution_count": null,
   "metadata": {},
   "outputs": [],
   "source": []
  }
 ],
 "metadata": {
  "interpreter": {
   "hash": "0c5188a96b217161fb1c005f727af44fe0ad9ac935c05b782336afa836d834ed"
  },
  "kernelspec": {
   "display_name": "Python 3.9.1 ('base')",
   "language": "python",
   "name": "python3"
  },
  "language_info": {
   "codemirror_mode": {
    "name": "ipython",
    "version": 3
   },
   "file_extension": ".py",
   "mimetype": "text/x-python",
   "name": "python",
   "nbconvert_exporter": "python",
   "pygments_lexer": "ipython3",
   "version": "3.9.1"
  },
  "orig_nbformat": 4
 },
 "nbformat": 4,
 "nbformat_minor": 2
}
