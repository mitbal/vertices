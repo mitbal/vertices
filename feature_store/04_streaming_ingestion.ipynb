{
 "cells": [
  {
   "cell_type": "code",
   "execution_count": 22,
   "metadata": {},
   "outputs": [],
   "source": [
    "PROJECT_ID = 'mitochondrion-project-344303'\n",
    "REGION = 'asia-southeast1'\n",
    "API_ENDPOINT = f'{REGION}-aiplatform.googleapis.com'"
   ]
  },
  {
   "cell_type": "code",
   "execution_count": 3,
   "metadata": {},
   "outputs": [],
   "source": [
    "from google.api_core import operations_v1\n",
    "from google.cloud.aiplatform_v1beta1 import FeaturestoreOnlineServingServiceClient\n",
    "from google.cloud.aiplatform_v1beta1 import FeaturestoreServiceClient\n",
    "from google.cloud.aiplatform_v1beta1.types import featurestore_online_service as featurestore_online_service_pb2\n",
    "from google.cloud.aiplatform_v1beta1.types import entity_type as entity_type_pb2\n",
    "from google.cloud.aiplatform_v1beta1.types import feature as feature_pb2\n",
    "from google.cloud.aiplatform_v1beta1.types import feature_selector as feature_selector_pb2\n",
    "from google.cloud.aiplatform_v1beta1.types import featurestore as featurestore_pb2\n",
    "from google.cloud.aiplatform_v1beta1.types import featurestore_service as featurestore_service_pb2\n",
    "from google.cloud.aiplatform_v1beta1.types import io as io_pb2\n",
    "from google.cloud.aiplatform_v1beta1.types import types as types_pb2\n",
    "from google.protobuf import field_mask_pb2"
   ]
  },
  {
   "cell_type": "code",
   "execution_count": 4,
   "metadata": {},
   "outputs": [],
   "source": [
    "# Create admin_client for CRUD and data_client for reading feature values.\n",
    "admin_client = FeaturestoreServiceClient(\n",
    "    client_options={\"api_endpoint\": API_ENDPOINT})\n",
    "data_client = FeaturestoreOnlineServingServiceClient(\n",
    "    client_options={\"api_endpoint\": API_ENDPOINT})\n",
    "\n",
    "# Represents featurestore resource path.\n",
    "BASE_RESOURCE_PATH = admin_client.common_location_path(PROJECT_ID, LOCATION)"
   ]
  },
  {
   "cell_type": "code",
   "execution_count": 5,
   "metadata": {},
   "outputs": [],
   "source": [
    "lro_client = operations_v1.OperationsClient(admin_client.transport.grpc_channel)"
   ]
  },
  {
   "cell_type": "code",
   "execution_count": 7,
   "metadata": {},
   "outputs": [],
   "source": [
    "FEATURESTORE_ID = 'marketing_featurestore'"
   ]
  },
  {
   "cell_type": "code",
   "execution_count": 8,
   "metadata": {},
   "outputs": [
    {
     "name": "stdout",
     "output_type": "stream",
     "text": [
      "name: \"projects/832137092875/locations/asia-southeast1/featurestores/marketing_featurestore\"\n",
      "\n"
     ]
    }
   ],
   "source": [
    "update_lro = admin_client.update_featurestore(\n",
    "    featurestore_service_pb2.UpdateFeaturestoreRequest(\n",
    "        featurestore = featurestore_pb2.Featurestore(\n",
    "            name = admin_client.featurestore_path(PROJECT_ID, LOCATION, FEATURESTORE_ID),\n",
    "            streaming_ingestion_config = featurestore_pb2.Featurestore.StreamingIngestionConfig (\n",
    "            mode = featurestore_pb2.Featurestore.StreamingIngestionConfig.Mode.FULL))))\n",
    "print(update_lro.result())"
   ]
  },
  {
   "cell_type": "code",
   "execution_count": 9,
   "metadata": {},
   "outputs": [
    {
     "data": {
      "text/plain": [
       "name: \"projects/832137092875/locations/asia-southeast1/featurestores/marketing_featurestore\"\n",
       "create_time {\n",
       "  seconds: 1650525772\n",
       "  nanos: 529372000\n",
       "}\n",
       "update_time {\n",
       "  seconds: 1657621059\n",
       "  nanos: 355934000\n",
       "}\n",
       "etag: \"AMEw9yMMH4Po0attL32y9mReOuu8OXB7J9-jOwyYvYXMGR0MXzSGv-Zh2MFCZiy0f5xd\"\n",
       "online_serving_config {\n",
       "  fixed_node_count: 1\n",
       "}\n",
       "state: STABLE\n",
       "streaming_ingestion_config {\n",
       "  mode: FULL\n",
       "}"
      ]
     },
     "execution_count": 9,
     "metadata": {},
     "output_type": "execute_result"
    }
   ],
   "source": [
    "admin_client.get_featurestore(name = admin_client.featurestore_path(PROJECT_ID, LOCATION, FEATURESTORE_ID))"
   ]
  },
  {
   "cell_type": "code",
   "execution_count": 12,
   "metadata": {},
   "outputs": [
    {
     "data": {
      "text/plain": [
       "header {\n",
       "  entity_type: \"projects/832137092875/locations/asia-southeast1/featurestores/marketing_featurestore/entityTypes/users\"\n",
       "  feature_descriptors {\n",
       "    id: \"history\"\n",
       "  }\n",
       "}\n",
       "entity_view {\n",
       "  entity_id: \"UID2733\"\n",
       "  data {\n",
       "    value {\n",
       "      double_value: 188.92\n",
       "      metadata {\n",
       "        generate_time {\n",
       "          seconds: 1650819600\n",
       "        }\n",
       "      }\n",
       "    }\n",
       "  }\n",
       "}"
      ]
     },
     "execution_count": 12,
     "metadata": {},
     "output_type": "execute_result"
    }
   ],
   "source": [
    "ENTITY_TYPE_ID = 'users'\n",
    "ENTITY_ID = 'UID2733'\n",
    "\n",
    "data_client.read_feature_values(\n",
    "  featurestore_online_service_pb2.ReadFeatureValuesRequest (\n",
    "    entity_type = admin_client.entity_type_path(PROJECT_ID, LOCATION, FEATURESTORE_ID, ENTITY_TYPE_ID),\n",
    "    entity_id = ENTITY_ID,\n",
    "    feature_selector = feature_selector_pb2.FeatureSelector(\n",
    "      id_matcher = feature_selector_pb2.IdMatcher (\n",
    "        ids = [\"history\"],\n",
    "      )\n",
    "    )\n",
    "  )\n",
    ")"
   ]
  },
  {
   "cell_type": "code",
   "execution_count": 13,
   "metadata": {},
   "outputs": [
    {
     "data": {
      "text/plain": [
       "header {\n",
       "  entity_type: \"projects/832137092875/locations/asia-southeast1/featurestores/marketing_featurestore/entityTypes/users\"\n",
       "  feature_descriptors {\n",
       "    id: \"history\"\n",
       "  }\n",
       "}\n",
       "entity_view {\n",
       "  entity_id: \"UUIDID\"\n",
       "  data {\n",
       "  }\n",
       "}"
      ]
     },
     "execution_count": 13,
     "metadata": {},
     "output_type": "execute_result"
    }
   ],
   "source": [
    "ENTITY_TYPE_ID = 'users'\n",
    "ENTITY_ID = 'UUIDID'\n",
    "\n",
    "data_client.read_feature_values(\n",
    "  featurestore_online_service_pb2.ReadFeatureValuesRequest (\n",
    "    entity_type = admin_client.entity_type_path(PROJECT_ID, LOCATION, FEATURESTORE_ID, ENTITY_TYPE_ID),\n",
    "    entity_id = ENTITY_ID,\n",
    "    feature_selector = feature_selector_pb2.FeatureSelector(\n",
    "      id_matcher = feature_selector_pb2.IdMatcher (\n",
    "        ids = [\"history\"],\n",
    "      )\n",
    "    )\n",
    "  )\n",
    ")"
   ]
  },
  {
   "cell_type": "code",
   "execution_count": 17,
   "metadata": {},
   "outputs": [
    {
     "data": {
      "text/plain": [
       "header {\n",
       "  entity_type: \"projects/832137092875/locations/asia-southeast1/featurestores/marketing_featurestore/entityTypes/users\"\n",
       "  feature_descriptors {\n",
       "    id: \"abc\"\n",
       "  }\n",
       "  feature_descriptors {\n",
       "    id: \"history\"\n",
       "  }\n",
       "  feature_descriptors {\n",
       "    id: \"sejarah\"\n",
       "  }\n",
       "}\n",
       "entity_view {\n",
       "  entity_id: \"UID2733\"\n",
       "  data {\n",
       "  }\n",
       "  data {\n",
       "    value {\n",
       "      double_value: 188.92\n",
       "      metadata {\n",
       "        generate_time {\n",
       "          seconds: 1650819600\n",
       "        }\n",
       "      }\n",
       "    }\n",
       "  }\n",
       "  data {\n",
       "  }\n",
       "}"
      ]
     },
     "execution_count": 17,
     "metadata": {},
     "output_type": "execute_result"
    }
   ],
   "source": [
    "ENTITY_TYPE_ID = 'users'\n",
    "ENTITY_ID = 'UID2733'\n",
    "\n",
    "data_client.read_feature_values(\n",
    "  featurestore_online_service_pb2.ReadFeatureValuesRequest (\n",
    "    entity_type = admin_client.entity_type_path(PROJECT_ID, LOCATION, FEATURESTORE_ID, ENTITY_TYPE_ID),\n",
    "    entity_id = ENTITY_ID,\n",
    "    feature_selector = feature_selector_pb2.FeatureSelector(\n",
    "      id_matcher = feature_selector_pb2.IdMatcher (\n",
    "        ids = ['abc', \"history\", \"sejarah\"],\n",
    "      )\n",
    "    )\n",
    "  )\n",
    ")"
   ]
  },
  {
   "cell_type": "code",
   "execution_count": 18,
   "metadata": {},
   "outputs": [
    {
     "data": {
      "text/plain": []
     },
     "execution_count": 18,
     "metadata": {},
     "output_type": "execute_result"
    }
   ],
   "source": [
    "ENTITY_TYPE_ID = 'users'\n",
    "ENTITY_ID = 'UID2733abcdefgh'\n",
    "\n",
    "data_client.write_feature_values(\n",
    "    entity_type = admin_client.entity_type_path(PROJECT_ID, LOCATION, FEATURESTORE_ID, ENTITY_TYPE_ID),\n",
    "    payloads = [\n",
    "        featurestore_online_service_pb2.WriteFeatureValuesPayload(\n",
    "            entity_id = ENTITY_ID,\n",
    "            feature_values = {\n",
    "                \"history\" : featurestore_online_service_pb2.FeatureValue(\n",
    "                    double_value = 999999), # update this param name if you are using a different value type\n",
    "            }\n",
    "        )\n",
    "    ])\n"
   ]
  },
  {
   "cell_type": "code",
   "execution_count": 19,
   "metadata": {},
   "outputs": [
    {
     "ename": "NotFound",
     "evalue": "404 Feature sejarah does not exist in the EntityType.",
     "output_type": "error",
     "traceback": [
      "\u001b[0;31m---------------------------------------------------------------------------\u001b[0m",
      "\u001b[0;31m_InactiveRpcError\u001b[0m                         Traceback (most recent call last)",
      "File \u001b[0;32m~/.local/lib/python3.9/site-packages/google/api_core/grpc_helpers.py:50\u001b[0m, in \u001b[0;36m_wrap_unary_errors.<locals>.error_remapped_callable\u001b[0;34m(*args, **kwargs)\u001b[0m\n\u001b[1;32m     49\u001b[0m \u001b[39mtry\u001b[39;00m:\n\u001b[0;32m---> 50\u001b[0m     \u001b[39mreturn\u001b[39;00m callable_(\u001b[39m*\u001b[39;49margs, \u001b[39m*\u001b[39;49m\u001b[39m*\u001b[39;49mkwargs)\n\u001b[1;32m     51\u001b[0m \u001b[39mexcept\u001b[39;00m grpc\u001b[39m.\u001b[39mRpcError \u001b[39mas\u001b[39;00m exc:\n",
      "File \u001b[0;32m~/.local/lib/python3.9/site-packages/grpc/_channel.py:946\u001b[0m, in \u001b[0;36m_UnaryUnaryMultiCallable.__call__\u001b[0;34m(self, request, timeout, metadata, credentials, wait_for_ready, compression)\u001b[0m\n\u001b[1;32m    944\u001b[0m state, call, \u001b[39m=\u001b[39m \u001b[39mself\u001b[39m\u001b[39m.\u001b[39m_blocking(request, timeout, metadata, credentials,\n\u001b[1;32m    945\u001b[0m                               wait_for_ready, compression)\n\u001b[0;32m--> 946\u001b[0m \u001b[39mreturn\u001b[39;00m _end_unary_response_blocking(state, call, \u001b[39mFalse\u001b[39;49;00m, \u001b[39mNone\u001b[39;49;00m)\n",
      "File \u001b[0;32m~/.local/lib/python3.9/site-packages/grpc/_channel.py:849\u001b[0m, in \u001b[0;36m_end_unary_response_blocking\u001b[0;34m(state, call, with_call, deadline)\u001b[0m\n\u001b[1;32m    848\u001b[0m \u001b[39melse\u001b[39;00m:\n\u001b[0;32m--> 849\u001b[0m     \u001b[39mraise\u001b[39;00m _InactiveRpcError(state)\n",
      "\u001b[0;31m_InactiveRpcError\u001b[0m: <_InactiveRpcError of RPC that terminated with:\n\tstatus = StatusCode.NOT_FOUND\n\tdetails = \"Feature sejarah does not exist in the EntityType.\"\n\tdebug_error_string = \"{\"created\":\"@1657866875.473715528\",\"description\":\"Error received from peer ipv4:74.125.24.95:443\",\"file\":\"src/core/lib/surface/call.cc\",\"file_line\":966,\"grpc_message\":\"Feature sejarah does not exist in the EntityType.\",\"grpc_status\":5}\"\n>",
      "\nThe above exception was the direct cause of the following exception:\n",
      "\u001b[0;31mNotFound\u001b[0m                                  Traceback (most recent call last)",
      "\u001b[1;32m/home/miqbalt/workspace/vertices/feature_store/streaming_ingestion.ipynb Cell 12'\u001b[0m in \u001b[0;36m<cell line: 4>\u001b[0;34m()\u001b[0m\n\u001b[1;32m      <a href='vscode-notebook-cell:/home/miqbalt/workspace/vertices/feature_store/streaming_ingestion.ipynb#ch0000016?line=0'>1</a>\u001b[0m ENTITY_TYPE_ID \u001b[39m=\u001b[39m \u001b[39m'\u001b[39m\u001b[39musers\u001b[39m\u001b[39m'\u001b[39m\n\u001b[1;32m      <a href='vscode-notebook-cell:/home/miqbalt/workspace/vertices/feature_store/streaming_ingestion.ipynb#ch0000016?line=1'>2</a>\u001b[0m ENTITY_ID \u001b[39m=\u001b[39m \u001b[39m'\u001b[39m\u001b[39mUID2733abcdefghijklmnope\u001b[39m\u001b[39m'\u001b[39m\n\u001b[0;32m----> <a href='vscode-notebook-cell:/home/miqbalt/workspace/vertices/feature_store/streaming_ingestion.ipynb#ch0000016?line=3'>4</a>\u001b[0m data_client\u001b[39m.\u001b[39;49mwrite_feature_values(\n\u001b[1;32m      <a href='vscode-notebook-cell:/home/miqbalt/workspace/vertices/feature_store/streaming_ingestion.ipynb#ch0000016?line=4'>5</a>\u001b[0m     entity_type \u001b[39m=\u001b[39;49m admin_client\u001b[39m.\u001b[39;49mentity_type_path(PROJECT_ID, LOCATION, FEATURESTORE_ID, ENTITY_TYPE_ID),\n\u001b[1;32m      <a href='vscode-notebook-cell:/home/miqbalt/workspace/vertices/feature_store/streaming_ingestion.ipynb#ch0000016?line=5'>6</a>\u001b[0m     payloads \u001b[39m=\u001b[39;49m [\n\u001b[1;32m      <a href='vscode-notebook-cell:/home/miqbalt/workspace/vertices/feature_store/streaming_ingestion.ipynb#ch0000016?line=6'>7</a>\u001b[0m         featurestore_online_service_pb2\u001b[39m.\u001b[39;49mWriteFeatureValuesPayload(\n\u001b[1;32m      <a href='vscode-notebook-cell:/home/miqbalt/workspace/vertices/feature_store/streaming_ingestion.ipynb#ch0000016?line=7'>8</a>\u001b[0m             entity_id \u001b[39m=\u001b[39;49m ENTITY_ID,\n\u001b[1;32m      <a href='vscode-notebook-cell:/home/miqbalt/workspace/vertices/feature_store/streaming_ingestion.ipynb#ch0000016?line=8'>9</a>\u001b[0m             feature_values \u001b[39m=\u001b[39;49m {\n\u001b[1;32m     <a href='vscode-notebook-cell:/home/miqbalt/workspace/vertices/feature_store/streaming_ingestion.ipynb#ch0000016?line=9'>10</a>\u001b[0m                 \u001b[39m\"\u001b[39;49m\u001b[39msejarah\u001b[39;49m\u001b[39m\"\u001b[39;49m : featurestore_online_service_pb2\u001b[39m.\u001b[39;49mFeatureValue(\n\u001b[1;32m     <a href='vscode-notebook-cell:/home/miqbalt/workspace/vertices/feature_store/streaming_ingestion.ipynb#ch0000016?line=10'>11</a>\u001b[0m                     double_value \u001b[39m=\u001b[39;49m \u001b[39m11111\u001b[39;49m), \u001b[39m# update this param name if you are using a different value type\u001b[39;49;00m\n\u001b[1;32m     <a href='vscode-notebook-cell:/home/miqbalt/workspace/vertices/feature_store/streaming_ingestion.ipynb#ch0000016?line=11'>12</a>\u001b[0m             }\n\u001b[1;32m     <a href='vscode-notebook-cell:/home/miqbalt/workspace/vertices/feature_store/streaming_ingestion.ipynb#ch0000016?line=12'>13</a>\u001b[0m         )\n\u001b[1;32m     <a href='vscode-notebook-cell:/home/miqbalt/workspace/vertices/feature_store/streaming_ingestion.ipynb#ch0000016?line=13'>14</a>\u001b[0m     ])\n",
      "File \u001b[0;32m~/miniconda3/envs/fspreview/lib/python3.9/site-packages/google/cloud/aiplatform_v1beta1/services/featurestore_online_serving_service/client.py:583\u001b[0m, in \u001b[0;36mFeaturestoreOnlineServingServiceClient.write_feature_values\u001b[0;34m(self, request, entity_type, payloads, retry, timeout, metadata)\u001b[0m\n\u001b[1;32m    576\u001b[0m metadata \u001b[39m=\u001b[39m \u001b[39mtuple\u001b[39m(metadata) \u001b[39m+\u001b[39m (\n\u001b[1;32m    577\u001b[0m     gapic_v1\u001b[39m.\u001b[39mrouting_header\u001b[39m.\u001b[39mto_grpc_metadata((\n\u001b[1;32m    578\u001b[0m         (\u001b[39m\"\u001b[39m\u001b[39mentity_type\u001b[39m\u001b[39m\"\u001b[39m, request\u001b[39m.\u001b[39mentity_type),\n\u001b[1;32m    579\u001b[0m     )),\n\u001b[1;32m    580\u001b[0m )\n\u001b[1;32m    582\u001b[0m \u001b[39m# Send the request.\u001b[39;00m\n\u001b[0;32m--> 583\u001b[0m response \u001b[39m=\u001b[39m rpc(\n\u001b[1;32m    584\u001b[0m     request,\n\u001b[1;32m    585\u001b[0m     retry\u001b[39m=\u001b[39;49mretry,\n\u001b[1;32m    586\u001b[0m     timeout\u001b[39m=\u001b[39;49mtimeout,\n\u001b[1;32m    587\u001b[0m     metadata\u001b[39m=\u001b[39;49mmetadata,\n\u001b[1;32m    588\u001b[0m )\n\u001b[1;32m    590\u001b[0m \u001b[39m# Done; return the response.\u001b[39;00m\n\u001b[1;32m    591\u001b[0m \u001b[39mreturn\u001b[39;00m response\n",
      "File \u001b[0;32m~/.local/lib/python3.9/site-packages/google/api_core/gapic_v1/method.py:154\u001b[0m, in \u001b[0;36m_GapicCallable.__call__\u001b[0;34m(self, timeout, retry, *args, **kwargs)\u001b[0m\n\u001b[1;32m    151\u001b[0m     metadata\u001b[39m.\u001b[39mextend(\u001b[39mself\u001b[39m\u001b[39m.\u001b[39m_metadata)\n\u001b[1;32m    152\u001b[0m     kwargs[\u001b[39m\"\u001b[39m\u001b[39mmetadata\u001b[39m\u001b[39m\"\u001b[39m] \u001b[39m=\u001b[39m metadata\n\u001b[0;32m--> 154\u001b[0m \u001b[39mreturn\u001b[39;00m wrapped_func(\u001b[39m*\u001b[39;49margs, \u001b[39m*\u001b[39;49m\u001b[39m*\u001b[39;49mkwargs)\n",
      "File \u001b[0;32m~/.local/lib/python3.9/site-packages/google/api_core/grpc_helpers.py:52\u001b[0m, in \u001b[0;36m_wrap_unary_errors.<locals>.error_remapped_callable\u001b[0;34m(*args, **kwargs)\u001b[0m\n\u001b[1;32m     50\u001b[0m     \u001b[39mreturn\u001b[39;00m callable_(\u001b[39m*\u001b[39margs, \u001b[39m*\u001b[39m\u001b[39m*\u001b[39mkwargs)\n\u001b[1;32m     51\u001b[0m \u001b[39mexcept\u001b[39;00m grpc\u001b[39m.\u001b[39mRpcError \u001b[39mas\u001b[39;00m exc:\n\u001b[0;32m---> 52\u001b[0m     \u001b[39mraise\u001b[39;00m exceptions\u001b[39m.\u001b[39mfrom_grpc_error(exc) \u001b[39mfrom\u001b[39;00m \u001b[39mexc\u001b[39;00m\n",
      "\u001b[0;31mNotFound\u001b[0m: 404 Feature sejarah does not exist in the EntityType."
     ]
    }
   ],
   "source": [
    "ENTITY_TYPE_ID = 'users'\n",
    "ENTITY_ID = 'UID2733abcdefghijklmnope'\n",
    "\n",
    "data_client.write_feature_values(\n",
    "    entity_type = admin_client.entity_type_path(PROJECT_ID, LOCATION, FEATURESTORE_ID, ENTITY_TYPE_ID),\n",
    "    payloads = [\n",
    "        featurestore_online_service_pb2.WriteFeatureValuesPayload(\n",
    "            entity_id = ENTITY_ID,\n",
    "            feature_values = {\n",
    "                \"sejarah\" : featurestore_online_service_pb2.FeatureValue(\n",
    "                    double_value = 11111), # update this param name if you are using a different value type\n",
    "            }\n",
    "        )\n",
    "    ])"
   ]
  },
  {
   "cell_type": "code",
   "execution_count": 25,
   "metadata": {},
   "outputs": [
    {
     "data": {
      "text/plain": [
       "<google.api_core.operation.Operation at 0x7d5a5e6be160>"
      ]
     },
     "execution_count": 25,
     "metadata": {},
     "output_type": "execute_result"
    }
   ],
   "source": [
    "admin_client.batch_create_features(\n",
    "    parent=admin_client.entity_type_path(PROJECT_ID, REGION, FEATURESTORE_ID, \"users\"),\n",
    "    requests=[\n",
    "        featurestore_service_pb2.CreateFeatureRequest(\n",
    "            feature=feature_pb2.Feature(\n",
    "                value_type=feature_pb2.Feature.ValueType.INT64,\n",
    "                description=\"mobile_number\",\n",
    "            ),\n",
    "            feature_id=\"mobile_number\",\n",
    "        )\n",
    "    ]\n",
    ")"
   ]
  },
  {
   "cell_type": "code",
   "execution_count": 28,
   "metadata": {},
   "outputs": [
    {
     "data": {
      "text/plain": []
     },
     "execution_count": 28,
     "metadata": {},
     "output_type": "execute_result"
    }
   ],
   "source": [
    "ENTITY_TYPE_ID = 'users'\n",
    "ENTITY_ID = 'abc'\n",
    "\n",
    "data_client.write_feature_values(\n",
    "    entity_type = admin_client.entity_type_path(PROJECT_ID, REGION, FEATURESTORE_ID, ENTITY_TYPE_ID),\n",
    "    payloads = [\n",
    "        featurestore_online_service_pb2.WriteFeatureValuesPayload(\n",
    "            entity_id = ENTITY_ID,\n",
    "            feature_values = {\n",
    "                \"mobile_number\" : featurestore_online_service_pb2.FeatureValue(\n",
    "                    int64_value = 123456789), # update this param name if you are using a different value type\n",
    "            }\n",
    "            )\n",
    "    ])\n"
   ]
  },
  {
   "cell_type": "code",
   "execution_count": 29,
   "metadata": {},
   "outputs": [
    {
     "data": {
      "text/plain": [
       "header {\n",
       "  entity_type: \"projects/832137092875/locations/asia-southeast1/featurestores/marketing_featurestore/entityTypes/users\"\n",
       "  feature_descriptors {\n",
       "    id: \"history\"\n",
       "  }\n",
       "  feature_descriptors {\n",
       "    id: \"mobile_number\"\n",
       "  }\n",
       "}\n",
       "entity_view {\n",
       "  entity_id: \"abc\"\n",
       "  data {\n",
       "  }\n",
       "  data {\n",
       "    value {\n",
       "      int64_value: 123456789\n",
       "      metadata {\n",
       "        generate_time {\n",
       "          seconds: 1657867984\n",
       "          nanos: 304000000\n",
       "        }\n",
       "      }\n",
       "    }\n",
       "  }\n",
       "}"
      ]
     },
     "execution_count": 29,
     "metadata": {},
     "output_type": "execute_result"
    }
   ],
   "source": [
    "ENTITY_TYPE_ID = 'users'\n",
    "ENTITY_ID = 'abc'\n",
    "\n",
    "data_client.read_feature_values(\n",
    "  featurestore_online_service_pb2.ReadFeatureValuesRequest (\n",
    "    entity_type = admin_client.entity_type_path(PROJECT_ID, LOCATION, FEATURESTORE_ID, ENTITY_TYPE_ID),\n",
    "    entity_id = ENTITY_ID,\n",
    "    feature_selector = feature_selector_pb2.FeatureSelector(\n",
    "      id_matcher = feature_selector_pb2.IdMatcher (\n",
    "        ids = [\"history\", 'mobile_number'],\n",
    "      )\n",
    "    )\n",
    "  )\n",
    ")"
   ]
  },
  {
   "cell_type": "code",
   "execution_count": 31,
   "metadata": {},
   "outputs": [],
   "source": [
    "# from scratch\n",
    "\n",
    "create_lro = admin_client.create_featurestore(\n",
    "    featurestore_service_pb2.CreateFeaturestoreRequest(\n",
    "        parent=BASE_RESOURCE_PATH,\n",
    "        featurestore_id='telecom_streaming',\n",
    "        featurestore=featurestore_pb2.Featurestore(\n",
    "            online_serving_config=featurestore_pb2.Featurestore\n",
    "            .OnlineServingConfig(fixed_node_count=1),\n",
    "            streaming_ingestion_config=featurestore_pb2.Featurestore\n",
    "            .StreamingIngestionConfig(mode=\"FULL\"))))"
   ]
  },
  {
   "cell_type": "code",
   "execution_count": 33,
   "metadata": {},
   "outputs": [],
   "source": [
    "users_entity_type_lro = admin_client.create_entity_type(\n",
    "    featurestore_service_pb2.CreateEntityTypeRequest(\n",
    "        parent=admin_client.featurestore_path(PROJECT_ID, REGION, 'telecom_streaming'),\n",
    "        entity_type_id=\"users\",\n",
    "        entity_type=entity_type_pb2.EntityType(\n",
    "            description=\"Users entity\",\n",
    "        ),\n",
    "    )\n",
    ")"
   ]
  },
  {
   "cell_type": "code",
   "execution_count": 34,
   "metadata": {},
   "outputs": [
    {
     "data": {
      "text/plain": [
       "<google.api_core.operation.Operation at 0x7d5a5e690d00>"
      ]
     },
     "execution_count": 34,
     "metadata": {},
     "output_type": "execute_result"
    }
   ],
   "source": [
    "admin_client.batch_create_features(\n",
    "    parent=admin_client.entity_type_path(PROJECT_ID, REGION, 'telecom_streaming', \"users\"),\n",
    "    requests=[\n",
    "        featurestore_service_pb2.CreateFeatureRequest(\n",
    "            feature=feature_pb2.Feature(\n",
    "                value_type=feature_pb2.Feature.ValueType.INT64,\n",
    "                description=\"mobile_number\",\n",
    "            ),\n",
    "            feature_id=\"mobile_number\",\n",
    "        )\n",
    "    ]\n",
    ")"
   ]
  },
  {
   "cell_type": "code",
   "execution_count": 35,
   "metadata": {},
   "outputs": [
    {
     "data": {
      "text/plain": []
     },
     "execution_count": 35,
     "metadata": {},
     "output_type": "execute_result"
    }
   ],
   "source": [
    "ENTITY_TYPE_ID = 'users'\n",
    "ENTITY_ID = 'abc'\n",
    "\n",
    "data_client.write_feature_values(\n",
    "    entity_type = admin_client.entity_type_path(PROJECT_ID, REGION, 'telecom_streaming', ENTITY_TYPE_ID),\n",
    "    payloads = [\n",
    "        featurestore_online_service_pb2.WriteFeatureValuesPayload(\n",
    "            entity_id = ENTITY_ID,\n",
    "            feature_values = {\n",
    "                \"mobile_number\" : featurestore_online_service_pb2.FeatureValue(\n",
    "                    int64_value = 123456789), # update this param name if you are using a different value type\n",
    "            }\n",
    "            )\n",
    "    ])"
   ]
  },
  {
   "cell_type": "code",
   "execution_count": 36,
   "metadata": {},
   "outputs": [
    {
     "data": {
      "text/plain": [
       "header {\n",
       "  entity_type: \"projects/832137092875/locations/asia-southeast1/featurestores/telecom_streaming/entityTypes/users\"\n",
       "  feature_descriptors {\n",
       "    id: \"history\"\n",
       "  }\n",
       "  feature_descriptors {\n",
       "    id: \"mobile_number\"\n",
       "  }\n",
       "}\n",
       "entity_view {\n",
       "  entity_id: \"abc\"\n",
       "  data {\n",
       "  }\n",
       "  data {\n",
       "    value {\n",
       "      int64_value: 123456789\n",
       "      metadata {\n",
       "        generate_time {\n",
       "          seconds: 1657868883\n",
       "          nanos: 656000000\n",
       "        }\n",
       "      }\n",
       "    }\n",
       "  }\n",
       "}"
      ]
     },
     "execution_count": 36,
     "metadata": {},
     "output_type": "execute_result"
    }
   ],
   "source": [
    "ENTITY_TYPE_ID = 'users'\n",
    "ENTITY_ID = 'abc'\n",
    "\n",
    "data_client.read_feature_values(\n",
    "  featurestore_online_service_pb2.ReadFeatureValuesRequest (\n",
    "    entity_type = admin_client.entity_type_path(PROJECT_ID, REGION, 'telecom_streaming', ENTITY_TYPE_ID),\n",
    "    entity_id = ENTITY_ID,\n",
    "    feature_selector = feature_selector_pb2.FeatureSelector(\n",
    "      id_matcher = feature_selector_pb2.IdMatcher (\n",
    "        ids = ['mobile_number'],\n",
    "      )\n",
    "    )\n",
    "  )\n",
    ")"
   ]
  },
  {
   "cell_type": "code",
   "execution_count": null,
   "metadata": {},
   "outputs": [],
   "source": []
  }
 ],
 "metadata": {
  "kernelspec": {
   "display_name": "Python ('fspreview')",
   "language": "python",
   "name": "python3"
  },
  "language_info": {
   "codemirror_mode": {
    "name": "ipython",
    "version": 3
   },
   "file_extension": ".py",
   "mimetype": "text/x-python",
   "name": "python",
   "nbconvert_exporter": "python",
   "pygments_lexer": "ipython3",
   "version": ""
  },
  "orig_nbformat": 4,
  "vscode": {
   "interpreter": {
    "hash": "25a19fbe0a9132dfb9279d48d161753c6352f8f9478c2e74383d340069b907c3"
   }
  }
 },
 "nbformat": 4,
 "nbformat_minor": 2
}
