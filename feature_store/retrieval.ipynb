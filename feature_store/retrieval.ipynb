{
 "cells": [
  {
   "cell_type": "code",
   "execution_count": 1,
   "metadata": {},
   "outputs": [],
   "source": [
    "from google.cloud import aiplatform as vertex"
   ]
  },
  {
   "cell_type": "code",
   "execution_count": 2,
   "metadata": {},
   "outputs": [],
   "source": [
    "REGION = 'asia-southeast1'\n",
    "PROJECT_ID = 'mitochondrion-project-344303'"
   ]
  },
  {
   "cell_type": "code",
   "execution_count": 3,
   "metadata": {},
   "outputs": [],
   "source": [
    "vertex.init(project=PROJECT_ID, location=REGION)"
   ]
  },
  {
   "cell_type": "code",
   "execution_count": 4,
   "metadata": {},
   "outputs": [],
   "source": [
    "# batch retrieval for training data"
   ]
  },
  {
   "cell_type": "code",
   "execution_count": 5,
   "metadata": {},
   "outputs": [],
   "source": [
    "from datetime import datetime\n",
    "import pandas as pd\n",
    "\n",
    "read_instances_df = pd.DataFrame()"
   ]
  },
  {
   "cell_type": "code",
   "execution_count": 6,
   "metadata": {},
   "outputs": [],
   "source": [
    "read_instances_df['users'] = [f'UID{i:04d}' for i in range(1, 101)]\n",
    "read_instances_df['timestamp'] = [datetime.strptime('2022-03-31', '%Y-%m-%d')] * 100"
   ]
  },
  {
   "cell_type": "code",
   "execution_count": 7,
   "metadata": {},
   "outputs": [],
   "source": [
    "fs = vertex.featurestore.Featurestore(featurestore_name='marketing_featurestore')"
   ]
  },
  {
   "cell_type": "code",
   "execution_count": 8,
   "metadata": {},
   "outputs": [],
   "source": [
    "training_feature = {\n",
    "    'users': ['channel', 'history', 'zip_code']\n",
    "}"
   ]
  },
  {
   "cell_type": "code",
   "execution_count": 9,
   "metadata": {},
   "outputs": [
    {
     "name": "stdout",
     "output_type": "stream",
     "text": [
      "INFO:google.cloud.aiplatform.featurestore.featurestore:Serving Featurestore feature values: projects/832137092875/locations/asia-southeast1/featurestores/marketing_featurestore\n",
      "INFO:google.cloud.aiplatform.featurestore.featurestore:Serve Featurestore feature values backing LRO: projects/832137092875/locations/asia-southeast1/featurestores/marketing_featurestore/operations/5459748133024038912\n",
      "INFO:google.cloud.aiplatform.featurestore.featurestore:Featurestore feature values served. Resource name: projects/832137092875/locations/asia-southeast1/featurestores/marketing_featurestore\n"
     ]
    }
   ],
   "source": [
    "training_df = fs.batch_serve_to_df(\n",
    "    serving_feature_ids=training_feature,\n",
    "    read_instances_df=read_instances_df,\n",
    ")"
   ]
  },
  {
   "cell_type": "code",
   "execution_count": 10,
   "metadata": {},
   "outputs": [
    {
     "data": {
      "text/html": [
       "<div>\n",
       "<style scoped>\n",
       "    .dataframe tbody tr th:only-of-type {\n",
       "        vertical-align: middle;\n",
       "    }\n",
       "\n",
       "    .dataframe tbody tr th {\n",
       "        vertical-align: top;\n",
       "    }\n",
       "\n",
       "    .dataframe thead th {\n",
       "        text-align: right;\n",
       "    }\n",
       "</style>\n",
       "<table border=\"1\" class=\"dataframe\">\n",
       "  <thead>\n",
       "    <tr style=\"text-align: right;\">\n",
       "      <th></th>\n",
       "      <th>timestamp</th>\n",
       "      <th>entity_type_users</th>\n",
       "      <th>channel</th>\n",
       "      <th>history</th>\n",
       "      <th>zip_code</th>\n",
       "    </tr>\n",
       "  </thead>\n",
       "  <tbody>\n",
       "    <tr>\n",
       "      <th>95</th>\n",
       "      <td>2022-03-31 00:00:00+00:00</td>\n",
       "      <td>UID0032</td>\n",
       "      <td>Multichannel</td>\n",
       "      <td>202.45</td>\n",
       "      <td>Surburban</td>\n",
       "    </tr>\n",
       "    <tr>\n",
       "      <th>96</th>\n",
       "      <td>2022-03-31 00:00:00+00:00</td>\n",
       "      <td>UID0081</td>\n",
       "      <td>Multichannel</td>\n",
       "      <td>893.23</td>\n",
       "      <td>Surburban</td>\n",
       "    </tr>\n",
       "    <tr>\n",
       "      <th>97</th>\n",
       "      <td>2022-03-31 00:00:00+00:00</td>\n",
       "      <td>UID0054</td>\n",
       "      <td>Multichannel</td>\n",
       "      <td>603.47</td>\n",
       "      <td>Surburban</td>\n",
       "    </tr>\n",
       "    <tr>\n",
       "      <th>98</th>\n",
       "      <td>2022-03-31 00:00:00+00:00</td>\n",
       "      <td>UID0021</td>\n",
       "      <td>Multichannel</td>\n",
       "      <td>260.57</td>\n",
       "      <td>Surburban</td>\n",
       "    </tr>\n",
       "    <tr>\n",
       "      <th>99</th>\n",
       "      <td>2022-03-31 00:00:00+00:00</td>\n",
       "      <td>UID0090</td>\n",
       "      <td>Multichannel</td>\n",
       "      <td>289.65</td>\n",
       "      <td>Surburban</td>\n",
       "    </tr>\n",
       "  </tbody>\n",
       "</table>\n",
       "</div>"
      ],
      "text/plain": [
       "                   timestamp entity_type_users       channel  history  \\\n",
       "95 2022-03-31 00:00:00+00:00           UID0032  Multichannel   202.45   \n",
       "96 2022-03-31 00:00:00+00:00           UID0081  Multichannel   893.23   \n",
       "97 2022-03-31 00:00:00+00:00           UID0054  Multichannel   603.47   \n",
       "98 2022-03-31 00:00:00+00:00           UID0021  Multichannel   260.57   \n",
       "99 2022-03-31 00:00:00+00:00           UID0090  Multichannel   289.65   \n",
       "\n",
       "     zip_code  \n",
       "95  Surburban  \n",
       "96  Surburban  \n",
       "97  Surburban  \n",
       "98  Surburban  \n",
       "99  Surburban  "
      ]
     },
     "execution_count": 10,
     "metadata": {},
     "output_type": "execute_result"
    }
   ],
   "source": [
    "training_df.tail()"
   ]
  },
  {
   "cell_type": "code",
   "execution_count": 11,
   "metadata": {},
   "outputs": [],
   "source": [
    "# real time retrieval for serving"
   ]
  },
  {
   "cell_type": "code",
   "execution_count": 12,
   "metadata": {},
   "outputs": [],
   "source": [
    "user_entity_type = vertex.featurestore.EntityType(\n",
    "entity_type_name='users', featurestore_id='marketing_featurestore')\n",
    "\n",
    "serving_df = user_entity_type.read(\n",
    "    entity_ids=['UID2733', 'UID9846'],\n",
    "    feature_ids=['channel', 'history', 'zip_code'],\n",
    ")"
   ]
  },
  {
   "cell_type": "code",
   "execution_count": 13,
   "metadata": {},
   "outputs": [
    {
     "data": {
      "text/html": [
       "<div>\n",
       "<style scoped>\n",
       "    .dataframe tbody tr th:only-of-type {\n",
       "        vertical-align: middle;\n",
       "    }\n",
       "\n",
       "    .dataframe tbody tr th {\n",
       "        vertical-align: top;\n",
       "    }\n",
       "\n",
       "    .dataframe thead th {\n",
       "        text-align: right;\n",
       "    }\n",
       "</style>\n",
       "<table border=\"1\" class=\"dataframe\">\n",
       "  <thead>\n",
       "    <tr style=\"text-align: right;\">\n",
       "      <th></th>\n",
       "      <th>entity_id</th>\n",
       "      <th>channel</th>\n",
       "      <th>history</th>\n",
       "      <th>zip_code</th>\n",
       "    </tr>\n",
       "  </thead>\n",
       "  <tbody>\n",
       "    <tr>\n",
       "      <th>0</th>\n",
       "      <td>UID2733</td>\n",
       "      <td>Phone</td>\n",
       "      <td>188.92</td>\n",
       "      <td>Rural</td>\n",
       "    </tr>\n",
       "    <tr>\n",
       "      <th>1</th>\n",
       "      <td>UID9846</td>\n",
       "      <td>Phone</td>\n",
       "      <td>239.00</td>\n",
       "      <td>Surburban</td>\n",
       "    </tr>\n",
       "  </tbody>\n",
       "</table>\n",
       "</div>"
      ],
      "text/plain": [
       "  entity_id channel  history   zip_code\n",
       "0   UID2733   Phone   188.92      Rural\n",
       "1   UID9846   Phone   239.00  Surburban"
      ]
     },
     "execution_count": 13,
     "metadata": {},
     "output_type": "execute_result"
    }
   ],
   "source": [
    "serving_df.head()"
   ]
  },
  {
   "cell_type": "code",
   "execution_count": null,
   "metadata": {},
   "outputs": [],
   "source": []
  }
 ],
 "metadata": {
  "interpreter": {
   "hash": "0c5188a96b217161fb1c005f727af44fe0ad9ac935c05b782336afa836d834ed"
  },
  "kernelspec": {
   "display_name": "Python 3.9.1 ('base')",
   "language": "python",
   "name": "python3"
  },
  "language_info": {
   "codemirror_mode": {
    "name": "ipython",
    "version": 3
   },
   "file_extension": ".py",
   "mimetype": "text/x-python",
   "name": "python",
   "nbconvert_exporter": "python",
   "pygments_lexer": "ipython3",
   "version": "3.9.1"
  },
  "orig_nbformat": 4
 },
 "nbformat": 4,
 "nbformat_minor": 2
}
