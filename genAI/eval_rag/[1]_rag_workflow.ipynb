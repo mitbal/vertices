{
 "cells": [
  {
   "cell_type": "code",
   "execution_count": null,
   "id": "79d38ceb-c0a6-4e75-bd2b-fb38ca64a8d0",
   "metadata": {},
   "outputs": [],
   "source": [
    "from typing import List\n",
    "\n",
    "import pandas as pd\n",
    "from tqdm.autonotebook import tqdm\n",
    "\n",
    "from google.protobuf.json_format import MessageToDict\n",
    "from google.api_core.client_options import ClientOptions\n",
    "from google.cloud import discoveryengine_v1beta as discoveryengine\n",
    "\n",
    "from vertexai.preview.language_models import TextGenerationModel"
   ]
  },
  {
   "cell_type": "code",
   "execution_count": null,
   "id": "ad332fe9-23bb-4abd-9ec1-5029bf09a20b",
   "metadata": {},
   "outputs": [],
   "source": [
    "# Input parameter start here"
   ]
  },
  {
   "cell_type": "code",
   "execution_count": null,
   "id": "7c357315-74a6-46f7-ae36-d3433fb26c11",
   "metadata": {
    "tags": [
     "parameters"
    ]
   },
   "outputs": [],
   "source": [
    "prompt_generation_template = \"\"\"\n",
    "<INSTRUCTIONS>\n",
    "1. ALL INSTRUCTIONS must be adhered to exactly when generating the Truthful Response.\n",
    "2. Look through the text in<CONTEXT></CONTEXT> and answer the user's question <QUESTION></QUESTION>\n",
    "3. The text in <CONTEXT></CONTEXT> may contain documents that are not relevant to the user's query (for example, document titles or snippets could be about a different topic), you should ignore those results.\n",
    "4. Think step-by-step. First, determine the the set of documents and snippets in the context that are relevant to the user's query. Then, synthesize them to create a detailed truthful response.\n",
    "5. If none of the information in <CONTEXT></CONTEXT> are relevant to the user's question, explain that to the user instead of making up an answer.\n",
    "6. Use \"they/them\" by default, avoid gendered identifiers if unspecified. Otherwise, use the pronoun in the person summary.\n",
    "7. Be helpful to the user, but avoid workplace violations.\n",
    "8. Repond in same language as the <QUESTION>\n",
    "</INSTRUCTIONS>\n",
    "<CONTEXT>\n",
    "{}\n",
    "</CONTEXT>\n",
    "<QUESTION>\n",
    "{}\n",
    "<QUESTION>\n",
    "\n",
    "Truthful Response:\n",
    "\n",
    "\"\"\""
   ]
  },
  {
   "cell_type": "code",
   "execution_count": null,
   "id": "de376ef9-7c84-4a2d-86c3-c248e58a6ec9",
   "metadata": {
    "tags": [
     "parameters"
    ]
   },
   "outputs": [],
   "source": [
    "data_store_id = '' # vertex search data store id"
   ]
  },
  {
   "cell_type": "code",
   "execution_count": null,
   "id": "983793e7-80a4-4d48-a174-31086d3b6c63",
   "metadata": {
    "tags": [
     "parameters"
    ]
   },
   "outputs": [],
   "source": [
    "max_search_result = 5\n",
    "max_extractive_segment = 3"
   ]
  },
  {
   "cell_type": "code",
   "execution_count": null,
   "id": "3477edfe-a01d-4652-94d9-24c7a22415bd",
   "metadata": {
    "tags": [
     "parameters"
    ]
   },
   "outputs": [],
   "source": [
    "max_docs = 1\n",
    "max_segment = 1\n",
    "min_relevance = 0"
   ]
  },
  {
   "cell_type": "code",
   "execution_count": null,
   "id": "57bce4f0-b550-493e-96ea-fc62c034a6a2",
   "metadata": {
    "tags": [
     "parameters"
    ]
   },
   "outputs": [],
   "source": [
    "# use_model = 'tune'\n",
    "# model_name = ''\n",
    "\n",
    "use_model = 'base'\n",
    "model_name = 'text-bison@latest'"
   ]
  },
  {
   "cell_type": "code",
   "execution_count": null,
   "id": "4ff722c5-64b2-45a8-adc0-92b8434ee205",
   "metadata": {},
   "outputs": [],
   "source": [
    "input_file = ''\n",
    "output_file = f\"{input_file.split('.')[0]}_gen_{model_name.split('/')[-1]}.csv\""
   ]
  },
  {
   "cell_type": "code",
   "execution_count": null,
   "id": "e49b360f-8c77-40aa-b3be-73ef83e7c4e4",
   "metadata": {},
   "outputs": [],
   "source": [
    "# Input parameter stop here"
   ]
  },
  {
   "cell_type": "code",
   "execution_count": null,
   "id": "97791c35-8e51-484e-94f8-d026ab45a1ae",
   "metadata": {},
   "outputs": [],
   "source": [
    "df = pd.read_csv(input_file)"
   ]
  },
  {
   "cell_type": "code",
   "execution_count": null,
   "id": "4f1c570c-e946-4b84-b447-797ad87f6e3a",
   "metadata": {
    "tags": []
   },
   "outputs": [],
   "source": [
    "df.head()"
   ]
  },
  {
   "cell_type": "code",
   "execution_count": null,
   "id": "04af9b9c-738e-4e29-abb8-dc4d83f62b52",
   "metadata": {},
   "outputs": [],
   "source": [
    "def search(\n",
    "    project_id: str,\n",
    "    location: str,\n",
    "    data_store_id: str,\n",
    "    search_query: str,\n",
    ") -> List[discoveryengine.SearchResponse]:\n",
    "    #  For more information, refer to:\n",
    "    # https://cloud.google.com/generative-ai-app-builder/docs/locations#specify_a_multi-region_for_your_data_store\n",
    "    client_options = (\n",
    "        ClientOptions(api_endpoint=f\"{location}-discoveryengine.googleapis.com\")\n",
    "        if location != \"global\"\n",
    "        else None\n",
    "    )\n",
    "\n",
    "    # Create a client\n",
    "    client = discoveryengine.SearchServiceClient(client_options=client_options)\n",
    "\n",
    "    # The full resource name of the search engine serving config\n",
    "    # e.g. projects/{project_id}/locations/{location}/dataStores/{data_store_id}/servingConfigs/{serving_config_id}\n",
    "    serving_config = client.serving_config_path(\n",
    "        project=project_id,\n",
    "        location=location,\n",
    "        data_store=data_store_id,\n",
    "        serving_config=\"default_config\",\n",
    "    )\n",
    "\n",
    "    # Optional: Configuration options for search\n",
    "    # Refer to the `ContentSearchSpec` reference for all supported fields:\n",
    "    # https://cloud.google.com/python/docs/reference/discoveryengine/latest/google.cloud.discoveryengine_v1.types.SearchRequest.ContentSearchSpec\n",
    "    content_search_spec = {\n",
    "        'extractive_content_spec': {\n",
    "            'max_extractive_segment_count': max_extractive_segment\n",
    "        },\n",
    "    }\n",
    "\n",
    "    # Refer to the `SearchRequest` reference for all supported fields:\n",
    "    # https://cloud.google.com/python/docs/reference/discoveryengine/latest/google.cloud.discoveryengine_v1.types.SearchRequest\n",
    "    request = discoveryengine.SearchRequest(\n",
    "        serving_config=serving_config,\n",
    "        query=search_query,\n",
    "        \n",
    "        page_size=max_search_result,\n",
    "        content_search_spec=content_search_spec,\n",
    "        \n",
    "        query_expansion_spec=discoveryengine.SearchRequest.QueryExpansionSpec(\n",
    "            condition=discoveryengine.SearchRequest.QueryExpansionSpec.Condition.AUTO,\n",
    "        ),\n",
    "        spell_correction_spec=discoveryengine.SearchRequest.SpellCorrectionSpec(\n",
    "            mode=discoveryengine.SearchRequest.SpellCorrectionSpec.Mode.AUTO\n",
    "        ),\n",
    "    )\n",
    "\n",
    "    response = client.search(request)\n",
    "\n",
    "    return response"
   ]
  },
  {
   "cell_type": "code",
   "execution_count": null,
   "id": "d7a5e255-c258-4319-97e7-2a5aae7e0472",
   "metadata": {},
   "outputs": [],
   "source": [
    "location = ''\n",
    "project_id = ''"
   ]
  },
  {
   "cell_type": "code",
   "execution_count": null,
   "id": "ad0ebe8c-51b7-4536-8263-0be71d4c724e",
   "metadata": {},
   "outputs": [],
   "source": [
    "def prepare_context(response):\n",
    "    \n",
    "    context = ''\n",
    "    for i, r in enumerate(response.results):\n",
    "        dd = MessageToDict(r.document._pb)\n",
    "        doc = dd['derivedStructData']\n",
    "        \n",
    "        context += f\"#{i} {doc['link']}\\n\"\n",
    "        context += f\"{doc['extractive_segments'][0]['content']}\"\n",
    "                \n",
    "    return context"
   ]
  },
  {
   "cell_type": "code",
   "execution_count": null,
   "id": "0e410fe2-aab1-4465-b1ed-8a0bf4ab9a39",
   "metadata": {},
   "outputs": [],
   "source": [
    "if use_model == 'tune':\n",
    "    summarizer = TextGenerationModel.get_tuned_model(model_name)\n",
    "else:\n",
    "    summarizer = TextGenerationModel.from_pretrained(model_name)"
   ]
  },
  {
   "cell_type": "code",
   "execution_count": null,
   "id": "bb53301e-47c5-467f-bfb0-3591339acbce",
   "metadata": {},
   "outputs": [],
   "source": [
    "result_df = pd.DataFrame()\n",
    "result_df['original_question'] = df['original_question']\n",
    "result_df['ground_truth_answer'] = df['ground_truth_answer']\n",
    "result_df['generated_answer'] = None"
   ]
  },
  {
   "cell_type": "code",
   "execution_count": null,
   "id": "4d371bee-97ec-4643-93b2-457fd5981e85",
   "metadata": {},
   "outputs": [],
   "source": [
    "for index, row in tqdm(df.iterrows()):\n",
    "    \n",
    "    search_query = row['original_question']\n",
    "    print(index, search_query)\n",
    "    \n",
    "    response = search(\n",
    "        project_id=project_id,\n",
    "        location=location,\n",
    "        search_query=search_query,\n",
    "        data_store_id=data_store_id\n",
    "    )\n",
    "    \n",
    "    context = prepare_context(response)\n",
    "\n",
    "    input_prompt = prompt_generation_template.format(context, search_query)\n",
    "    response = summarizer.predict(input_prompt, temperature=0, max_output_tokens=1024)\n",
    "\n",
    "    result_df.loc[index, 'generated_answer'] = response.text"
   ]
  },
  {
   "cell_type": "code",
   "execution_count": null,
   "id": "a801fe13-fbff-4c41-82cf-2a16495f64bc",
   "metadata": {},
   "outputs": [],
   "source": [
    "result_df.head()"
   ]
  },
  {
   "cell_type": "code",
   "execution_count": null,
   "id": "e5f5e565-9877-4b4a-a5f7-3438e92a4951",
   "metadata": {},
   "outputs": [],
   "source": [
    "result_df.to_csv(output_file, index=False)"
   ]
  },
  {
   "cell_type": "code",
   "execution_count": null,
   "id": "0d98e5d6-4c43-4908-99bd-44a11388c4f1",
   "metadata": {},
   "outputs": [],
   "source": []
  }
 ],
 "metadata": {
  "kernelspec": {
   "display_name": "Python (Local)",
   "language": "python",
   "name": "local-base"
  },
  "language_info": {
   "codemirror_mode": {
    "name": "ipython",
    "version": 3
   },
   "file_extension": ".py",
   "mimetype": "text/x-python",
   "name": "python",
   "nbconvert_exporter": "python",
   "pygments_lexer": "ipython3",
   "version": "3.10.12"
  }
 },
 "nbformat": 4,
 "nbformat_minor": 5
}
