{
 "cells": [
  {
   "cell_type": "code",
   "execution_count": 1,
   "metadata": {},
   "outputs": [],
   "source": [
    "import pandas as pd\n",
    "from vertexai.language_models import TextGenerationModel"
   ]
  },
  {
   "cell_type": "code",
   "execution_count": 2,
   "metadata": {},
   "outputs": [],
   "source": [
    "bison001 = TextGenerationModel.from_pretrained('text-bison@001')\n",
    "bison002 = TextGenerationModel.from_pretrained('text-bison@002')"
   ]
  },
  {
   "cell_type": "code",
   "execution_count": 3,
   "metadata": {},
   "outputs": [],
   "source": [
    "prompt = 'Write a unique, surprising, extremely randomized story with highly unpredictable changes of events.'"
   ]
  },
  {
   "cell_type": "code",
   "execution_count": 4,
   "metadata": {},
   "outputs": [],
   "source": [
    "def run_experiment(model, prompt, n_experiment=1, n_tries=2):\n",
    "\n",
    "    responses = []\n",
    "    for n in range(n_experiment):\n",
    "        \n",
    "        unique_result = set()\n",
    "        counts = {}\n",
    "        for i in range(n_tries):\n",
    "\n",
    "            response = model.predict(prompt, temperature=0, max_output_tokens=125)\n",
    "            t = response.text\n",
    "            unique_result.add(t)\n",
    "\n",
    "            counts[t] = counts.get(t, 0) + 1\n",
    "        \n",
    "        responses += [{\n",
    "            'model_name': model._model_id,\n",
    "            'expth': n,\n",
    "            'total_tries': n_tries,\n",
    "            'unique_response': len(unique_result)\n",
    "        }]\n",
    "    \n",
    "    df_result = pd.DataFrame(responses)\n",
    "    return df_result, counts"
   ]
  },
  {
   "cell_type": "code",
   "execution_count": 5,
   "metadata": {},
   "outputs": [],
   "source": [
    "df1, count1 = run_experiment(bison001, \n",
    "                             prompt,\n",
    "                             3,\n",
    "                             30)"
   ]
  },
  {
   "cell_type": "code",
   "execution_count": 6,
   "metadata": {},
   "outputs": [
    {
     "data": {
      "text/html": [
       "<div>\n",
       "<style scoped>\n",
       "    .dataframe tbody tr th:only-of-type {\n",
       "        vertical-align: middle;\n",
       "    }\n",
       "\n",
       "    .dataframe tbody tr th {\n",
       "        vertical-align: top;\n",
       "    }\n",
       "\n",
       "    .dataframe thead th {\n",
       "        text-align: right;\n",
       "    }\n",
       "</style>\n",
       "<table border=\"1\" class=\"dataframe\">\n",
       "  <thead>\n",
       "    <tr style=\"text-align: right;\">\n",
       "      <th></th>\n",
       "      <th>model_name</th>\n",
       "      <th>expth</th>\n",
       "      <th>total_tries</th>\n",
       "      <th>unique_response</th>\n",
       "    </tr>\n",
       "  </thead>\n",
       "  <tbody>\n",
       "    <tr>\n",
       "      <th>0</th>\n",
       "      <td>text-bison@001</td>\n",
       "      <td>0</td>\n",
       "      <td>30</td>\n",
       "      <td>1</td>\n",
       "    </tr>\n",
       "    <tr>\n",
       "      <th>1</th>\n",
       "      <td>text-bison@001</td>\n",
       "      <td>1</td>\n",
       "      <td>30</td>\n",
       "      <td>1</td>\n",
       "    </tr>\n",
       "    <tr>\n",
       "      <th>2</th>\n",
       "      <td>text-bison@001</td>\n",
       "      <td>2</td>\n",
       "      <td>30</td>\n",
       "      <td>1</td>\n",
       "    </tr>\n",
       "  </tbody>\n",
       "</table>\n",
       "</div>"
      ],
      "text/plain": [
       "       model_name  expth  total_tries  unique_response\n",
       "0  text-bison@001      0           30                1\n",
       "1  text-bison@001      1           30                1\n",
       "2  text-bison@001      2           30                1"
      ]
     },
     "execution_count": 6,
     "metadata": {},
     "output_type": "execute_result"
    }
   ],
   "source": [
    "df1"
   ]
  },
  {
   "cell_type": "code",
   "execution_count": 7,
   "metadata": {},
   "outputs": [
    {
     "data": {
      "text/plain": [
       "{'Once upon a time, there was a little girl who lived in a small village. She had a very happy life, and she loved to play with her friends. One day, she was playing in the forest when she came across a magical creature. The creature was a beautiful unicorn, and it told the girl that it could grant her one wish. The girl was so excited, and she immediately wished for a new doll. The unicorn granted her wish, and the girl was so happy. She ran home to tell her parents all about it, and they were just as happy as she was.\\n\\nThe next day,': 30}"
      ]
     },
     "execution_count": 7,
     "metadata": {},
     "output_type": "execute_result"
    }
   ],
   "source": [
    "count1"
   ]
  },
  {
   "cell_type": "code",
   "execution_count": 8,
   "metadata": {},
   "outputs": [],
   "source": [
    "df1, count1 = run_experiment(bison002, \n",
    "                             prompt,\n",
    "                             3,\n",
    "                             30)"
   ]
  },
  {
   "cell_type": "code",
   "execution_count": 9,
   "metadata": {},
   "outputs": [
    {
     "data": {
      "text/html": [
       "<div>\n",
       "<style scoped>\n",
       "    .dataframe tbody tr th:only-of-type {\n",
       "        vertical-align: middle;\n",
       "    }\n",
       "\n",
       "    .dataframe tbody tr th {\n",
       "        vertical-align: top;\n",
       "    }\n",
       "\n",
       "    .dataframe thead th {\n",
       "        text-align: right;\n",
       "    }\n",
       "</style>\n",
       "<table border=\"1\" class=\"dataframe\">\n",
       "  <thead>\n",
       "    <tr style=\"text-align: right;\">\n",
       "      <th></th>\n",
       "      <th>model_name</th>\n",
       "      <th>expth</th>\n",
       "      <th>total_tries</th>\n",
       "      <th>unique_response</th>\n",
       "    </tr>\n",
       "  </thead>\n",
       "  <tbody>\n",
       "    <tr>\n",
       "      <th>0</th>\n",
       "      <td>text-bison@002</td>\n",
       "      <td>0</td>\n",
       "      <td>30</td>\n",
       "      <td>5</td>\n",
       "    </tr>\n",
       "    <tr>\n",
       "      <th>1</th>\n",
       "      <td>text-bison@002</td>\n",
       "      <td>1</td>\n",
       "      <td>30</td>\n",
       "      <td>4</td>\n",
       "    </tr>\n",
       "    <tr>\n",
       "      <th>2</th>\n",
       "      <td>text-bison@002</td>\n",
       "      <td>2</td>\n",
       "      <td>30</td>\n",
       "      <td>5</td>\n",
       "    </tr>\n",
       "  </tbody>\n",
       "</table>\n",
       "</div>"
      ],
      "text/plain": [
       "       model_name  expth  total_tries  unique_response\n",
       "0  text-bison@002      0           30                5\n",
       "1  text-bison@002      1           30                4\n",
       "2  text-bison@002      2           30                5"
      ]
     },
     "execution_count": 9,
     "metadata": {},
     "output_type": "execute_result"
    }
   ],
   "source": [
    "df1"
   ]
  },
  {
   "cell_type": "code",
   "execution_count": 10,
   "metadata": {},
   "outputs": [
    {
     "data": {
      "text/plain": [
       "{' In a world where reality was as malleable as clay, lived a peculiar individual named Jasper. Jasper had the uncanny ability to alter the course of events with a mere thought. One fateful day, as Jasper was strolling through the park, he stumbled upon a mysterious artifact hidden beneath a fallen tree.\\n\\nCuriosity getting the better of him, Jasper picked up the artifact and examined it closely. Suddenly, a blinding light engulfed him, and when it subsided, he found himself transported to a bizarre dimension. In this realm, gravity was reversed, and the sky was a kaleidoscope of colors.\\n\\nAs Jasper navigated this peculiar': 14,\n",
       " ' In a world where reality was as malleable as clay, lived a peculiar individual named Jasper. Jasper had the uncanny ability to alter the course of events with a mere thought. One fateful day, as Jasper was strolling through the park, he stumbled upon a mysterious artifact hidden beneath a fallen tree.\\n\\nCuriosity getting the better of him, Jasper picked up the artifact and examined it closely. Suddenly, a blinding light engulfed him, and when it subsided, he found himself transported to a bizarre and fantastical realm. In this realm, gravity was a mere suggestion, and colors danced in the air like living entities.\\n\\nAs': 10,\n",
       " ' In a world where reality was as malleable as clay, lived a peculiar individual named Jasper. Jasper had the uncanny ability to alter the course of events with a mere thought. One fateful day, as Jasper was strolling through the park, he stumbled upon a mysterious artifact hidden beneath a fallen tree.\\n\\nCuriosity getting the better of him, Jasper picked up the artifact and examined it closely. Suddenly, a blinding light engulfed him, and when it subsided, he found himself transported to a bizarre dimension. In this realm, gravity was reversed, and the sky was a kaleidoscope of colors.\\n\\nAs Jasper navigated this surreal': 3,\n",
       " ' In a world where reality was as malleable as clay, lived a peculiar individual named Jasper. Jasper had the uncanny ability to alter the course of events with a mere thought. One fateful day, as Jasper was strolling through the park, he stumbled upon a mysterious artifact hidden beneath a fallen tree.\\n\\nCuriosity getting the better of him, Jasper picked up the artifact and examined it closely. Suddenly, a blinding light engulfed him, and when it subsided, he found himself transported to a bizarre and fantastical realm. In this realm, gravity was optional, colors danced in the air, and creatures with unimaginable shapes roamed freely': 2,\n",
       " ' In a world where reality was as malleable as clay, lived a peculiar individual named Jasper. Jasper had the uncanny ability to alter the course of events with a mere thought. One fateful day, as Jasper was strolling through the park, he stumbled upon a mysterious artifact hidden beneath a fallen tree.\\n\\nCuriosity getting the better of him, Jasper picked up the artifact and examined it closely. Suddenly, a blinding light engulfed him, and when it subsided, he found himself transported to a bizarre and fantastical realm. In this realm, gravity was optional, and colors danced in the air like living entities.\\n\\nAs Jasper explored': 1}"
      ]
     },
     "execution_count": 10,
     "metadata": {},
     "output_type": "execute_result"
    }
   ],
   "source": [
    "count1"
   ]
  },
  {
   "cell_type": "code",
   "execution_count": null,
   "metadata": {},
   "outputs": [],
   "source": []
  }
 ],
 "metadata": {
  "kernelspec": {
   "display_name": "base",
   "language": "python",
   "name": "python3"
  },
  "language_info": {
   "codemirror_mode": {
    "name": "ipython",
    "version": 3
   },
   "file_extension": ".py",
   "mimetype": "text/x-python",
   "name": "python",
   "nbconvert_exporter": "python",
   "pygments_lexer": "ipython3",
   "version": "3.12.0"
  },
  "orig_nbformat": 4,
  "vscode": {
   "interpreter": {
    "hash": "0c5188a96b217161fb1c005f727af44fe0ad9ac935c05b782336afa836d834ed"
   }
  }
 },
 "nbformat": 4,
 "nbformat_minor": 2
}
