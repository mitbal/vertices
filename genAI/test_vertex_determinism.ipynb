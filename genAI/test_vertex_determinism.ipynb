{
 "cells": [
  {
   "cell_type": "code",
   "execution_count": 1,
   "metadata": {},
   "outputs": [],
   "source": [
    "import pandas as pd\n",
    "\n",
    "import vertexai\n",
    "from vertexai.preview.language_models import TextGenerationModel"
   ]
  },
  {
   "cell_type": "code",
   "execution_count": 2,
   "metadata": {},
   "outputs": [],
   "source": [
    "bison001 = TextGenerationModel.from_pretrained('text-bison@001')\n",
    "bisonlatest = TextGenerationModel.from_pretrained('text-bison@latest')"
   ]
  },
  {
   "cell_type": "code",
   "execution_count": 3,
   "metadata": {},
   "outputs": [],
   "source": [
    "prompt = 'Write a unique, surprising, extremely randomized story with highly unpredictable changes of events.'"
   ]
  },
  {
   "cell_type": "code",
   "execution_count": 4,
   "metadata": {},
   "outputs": [],
   "source": [
    "def run_experiment(model_name, prompt, n_experiment=1, n_tries=2):\n",
    "\n",
    "    model = TextGenerationModel.from_pretrained(model_name)\n",
    "    responses = []\n",
    "    for n in range(n_experiment):\n",
    "        \n",
    "        unique_result = set()\n",
    "        counts = {}\n",
    "        for i in range(n_tries):\n",
    "\n",
    "            response = model.predict(prompt, temperature=0, max_output_tokens=512)\n",
    "            t = response.text\n",
    "            unique_result.add(t)\n",
    "\n",
    "            counts[t] = counts.get(t, 0) + 1\n",
    "        \n",
    "        # df_result = pd.concat([df_result, pd.DataFrame([model_name, n, i, len(unique_result)])], axis=0, ignore_index=True)\n",
    "        responses += [{\n",
    "            'model_name': model_name,\n",
    "            'expth': n,\n",
    "            'total_tries': n_tries,\n",
    "            'unique_response': len(unique_result)\n",
    "        }]\n",
    "    \n",
    "    df_result = pd.DataFrame(responses)\n",
    "    return df_result, counts"
   ]
  },
  {
   "cell_type": "code",
   "execution_count": 5,
   "metadata": {},
   "outputs": [],
   "source": [
    "df1, count1 = run_experiment('text-bison@001', \n",
    "                             prompt,\n",
    "                             3,\n",
    "                             30)"
   ]
  },
  {
   "cell_type": "code",
   "execution_count": 6,
   "metadata": {},
   "outputs": [
    {
     "data": {
      "text/html": [
       "<div>\n",
       "<style scoped>\n",
       "    .dataframe tbody tr th:only-of-type {\n",
       "        vertical-align: middle;\n",
       "    }\n",
       "\n",
       "    .dataframe tbody tr th {\n",
       "        vertical-align: top;\n",
       "    }\n",
       "\n",
       "    .dataframe thead th {\n",
       "        text-align: right;\n",
       "    }\n",
       "</style>\n",
       "<table border=\"1\" class=\"dataframe\">\n",
       "  <thead>\n",
       "    <tr style=\"text-align: right;\">\n",
       "      <th></th>\n",
       "      <th>model_name</th>\n",
       "      <th>expth</th>\n",
       "      <th>total_tries</th>\n",
       "      <th>unique_response</th>\n",
       "    </tr>\n",
       "  </thead>\n",
       "  <tbody>\n",
       "    <tr>\n",
       "      <th>0</th>\n",
       "      <td>text-bison@001</td>\n",
       "      <td>0</td>\n",
       "      <td>30</td>\n",
       "      <td>2</td>\n",
       "    </tr>\n",
       "    <tr>\n",
       "      <th>1</th>\n",
       "      <td>text-bison@001</td>\n",
       "      <td>1</td>\n",
       "      <td>30</td>\n",
       "      <td>1</td>\n",
       "    </tr>\n",
       "    <tr>\n",
       "      <th>2</th>\n",
       "      <td>text-bison@001</td>\n",
       "      <td>2</td>\n",
       "      <td>30</td>\n",
       "      <td>1</td>\n",
       "    </tr>\n",
       "  </tbody>\n",
       "</table>\n",
       "</div>"
      ],
      "text/plain": [
       "       model_name  expth  total_tries  unique_response\n",
       "0  text-bison@001      0           30                2\n",
       "1  text-bison@001      1           30                1\n",
       "2  text-bison@001      2           30                1"
      ]
     },
     "execution_count": 6,
     "metadata": {},
     "output_type": "execute_result"
    }
   ],
   "source": [
    "df1"
   ]
  },
  {
   "cell_type": "code",
   "execution_count": 7,
   "metadata": {},
   "outputs": [
    {
     "data": {
      "text/plain": [
       "{\"Once upon a time, there was a little girl who lived in a small village. She had a very happy life, and she loved to play with her friends. One day, she was playing in the forest when she came across a magical creature. The creature was a beautiful unicorn, and it told the girl that it could grant her one wish. The girl was so excited, and she immediately wished for a new doll. The unicorn granted her wish, and the girl was so happy. She ran home to tell her parents all about it, and they were just as happy as she was.\\n\\nThe next day, the girl was playing with her new doll when she came across a group of boys. The boys were mean, and they started to tease the girl about her doll. The girl was very upset, and she ran away crying. She ran until she came to a clearing, and there she saw the unicorn again. The unicorn asked the girl why she was crying, and the girl told her about the boys. The unicorn told the girl not to worry, and it promised to help her.\\n\\nThe next day, the boys were playing in the forest when they saw the girl. They started to tease her again, but this time the unicorn appeared. The unicorn told the boys to leave the girl alone, and the boys were scared. They ran away, and the girl was safe. The girl was so grateful to the unicorn, and she promised to always be kind to animals.\\n\\nThe girl and the unicorn became best friends, and they would often play together in the forest. One day, the girl was playing with the unicorn when she came across a group of hunters. The hunters were about to shoot the unicorn, but the girl stopped them. She told them that the unicorn was her friend, and that they couldn't hurt it. The hunters were angry, but they agreed not to hurt the unicorn.\\n\\nThe girl and the unicorn lived happily ever after, and they always remained friends.\": 30}"
      ]
     },
     "execution_count": 7,
     "metadata": {},
     "output_type": "execute_result"
    }
   ],
   "source": [
    "count1"
   ]
  },
  {
   "cell_type": "code",
   "execution_count": 8,
   "metadata": {},
   "outputs": [],
   "source": [
    "df1, count1 = run_experiment('text-bison@latest', \n",
    "                             prompt,\n",
    "                             3,\n",
    "                             30)"
   ]
  },
  {
   "cell_type": "code",
   "execution_count": 9,
   "metadata": {},
   "outputs": [
    {
     "data": {
      "text/html": [
       "<div>\n",
       "<style scoped>\n",
       "    .dataframe tbody tr th:only-of-type {\n",
       "        vertical-align: middle;\n",
       "    }\n",
       "\n",
       "    .dataframe tbody tr th {\n",
       "        vertical-align: top;\n",
       "    }\n",
       "\n",
       "    .dataframe thead th {\n",
       "        text-align: right;\n",
       "    }\n",
       "</style>\n",
       "<table border=\"1\" class=\"dataframe\">\n",
       "  <thead>\n",
       "    <tr style=\"text-align: right;\">\n",
       "      <th></th>\n",
       "      <th>model_name</th>\n",
       "      <th>expth</th>\n",
       "      <th>total_tries</th>\n",
       "      <th>unique_response</th>\n",
       "    </tr>\n",
       "  </thead>\n",
       "  <tbody>\n",
       "    <tr>\n",
       "      <th>0</th>\n",
       "      <td>text-bison@latest</td>\n",
       "      <td>0</td>\n",
       "      <td>30</td>\n",
       "      <td>4</td>\n",
       "    </tr>\n",
       "    <tr>\n",
       "      <th>1</th>\n",
       "      <td>text-bison@latest</td>\n",
       "      <td>1</td>\n",
       "      <td>30</td>\n",
       "      <td>4</td>\n",
       "    </tr>\n",
       "    <tr>\n",
       "      <th>2</th>\n",
       "      <td>text-bison@latest</td>\n",
       "      <td>2</td>\n",
       "      <td>30</td>\n",
       "      <td>4</td>\n",
       "    </tr>\n",
       "  </tbody>\n",
       "</table>\n",
       "</div>"
      ],
      "text/plain": [
       "          model_name  expth  total_tries  unique_response\n",
       "0  text-bison@latest      0           30                4\n",
       "1  text-bison@latest      1           30                4\n",
       "2  text-bison@latest      2           30                4"
      ]
     },
     "execution_count": 9,
     "metadata": {},
     "output_type": "execute_result"
    }
   ],
   "source": [
    "df1"
   ]
  },
  {
   "cell_type": "code",
   "execution_count": 10,
   "metadata": {},
   "outputs": [
    {
     "data": {
      "text/plain": [
       "{\" Once upon a time, there was a little girl who lived in a small village. She had a very happy life, and she loved to play with her friends. One day, she was playing in the forest when she came across a magical creature. The creature was a beautiful unicorn, and it told the girl that it could grant her one wish. The girl was so excited, and she immediately wished for a new doll. The unicorn granted her wish, and the girl was so happy. She ran home to tell her parents all about it, and they were just as happy as she was.\\n\\nThe next day, the girl went back to the forest to play with the unicorn. This time, the unicorn told her that it could grant her another wish. The girl was so excited, and she immediately wished for a new dress. The unicorn granted her wish, and the girl was so happy. She ran home to tell her parents all about it, and they were just as happy as she was.\\n\\nThe girl continued to visit the unicorn every day, and each time, the unicorn would grant her another wish. The girl wished for all sorts of things, including a new bike, a new computer, and a new house. The unicorn always granted her wishes, and the girl was always so happy.\\n\\nOne day, the girl went to visit the unicorn, but this time, the unicorn was nowhere to be found. The girl was so sad, and she didn't know what to do. She searched all over the forest, but she couldn't find the unicorn.\\n\\nThe girl finally gave up and went home. She was so sad that she didn't even want to play with her friends. She just sat in her room and cried.\\n\\nThe next day, the girl woke up and found a letter on her bed. The letter was from the unicorn, and it said that it had to leave. The unicorn said that it had granted the girl all of her wishes, and now it was time for it to move on.\\n\\nThe girl was so sad, but she knew that the unicorn had to leave. She waved goodbye to the unicorn as it walked away, and she never saw it again.\\n\\nThe girl never forgot the unicorn, and she always remembered the wishes that it had granted her. She grew up to be a kind and generous woman, and she always helped others. She knew that the unicorn had taught her the importance of kindness and generosity, and she was grateful for the lessons that it had taught her.\": 16,\n",
       " \" Once upon a time, there was a little girl who lived in a small village. She had a very happy life, and she loved to play with her friends. One day, she was playing in the forest when she came across a magical creature. The creature was a beautiful unicorn, and it told the girl that it could grant her one wish. The girl was so excited, and she immediately wished for a new doll. The unicorn granted her wish, and the girl was so happy. She ran home to tell her parents all about it, and they were just as happy as she was.\\n\\nThe next day, the girl went back to the forest to play with the unicorn. This time, the unicorn told her that it could grant her another wish. The girl was so excited, and she immediately wished for a new dress. The unicorn granted her wish, and the girl was so happy. She ran home to tell her parents all about it, and they were just as happy as she was.\\n\\nThe girl continued to visit the unicorn every day, and each time, the unicorn would grant her another wish. The girl wished for all sorts of things, including a new bike, a new computer, and a new house. The unicorn always granted her wishes, and the girl was always so happy.\\n\\nOne day, the girl went to visit the unicorn, but this time, the unicorn was nowhere to be found. The girl was so sad, and she didn't know what to do. She searched the forest for hours, but she couldn't find the unicorn.\\n\\nFinally, the girl gave up and went home. She was so sad that she didn't even want to play with her friends. She just went to bed and cried herself to sleep.\\n\\nThe next morning, the girl woke up and found a letter on her pillow. The letter was from the unicorn, and it said that it had to leave. The unicorn said that it had granted the girl all of her wishes, and that it was time for it to move on.\\n\\nThe girl was so sad, but she knew that the unicorn had to leave. She waved goodbye to the unicorn as it walked away, and she never saw it again.\\n\\nThe girl never forgot the unicorn, and she always remembered the wishes that it had granted her. She grew up to be a kind and generous woman, and she always helped others. She knew that the unicorn had taught her the importance of kindness and generosity, and she was grateful for the lessons that it had\": 3,\n",
       " \" Once upon a time, there was a little girl who lived in a small village. She had a very happy life, and she loved to play with her friends. One day, she was playing in the forest when she came across a magical creature. The creature was a beautiful unicorn, and it told the girl that it could grant her one wish. The girl was so excited, and she immediately wished for a new doll. The unicorn granted her wish, and the girl was so happy. She ran home to tell her parents all about it, and they were just as happy as she was.\\n\\nThe next day, the girl went back to the forest to play with the unicorn. This time, the unicorn told her that it could grant her another wish. The girl was so excited, and she immediately wished for a new dress. The unicorn granted her wish, and the girl was so happy. She ran home to tell her parents all about it, and they were just as happy as she was.\\n\\nThe girl continued to visit the unicorn every day, and each time, the unicorn would grant her another wish. The girl wished for all sorts of things, including a new bike, a new computer, and a new house. The unicorn always granted her wishes, and the girl was always so happy.\\n\\nOne day, the girl went to visit the unicorn, but this time, the unicorn was nowhere to be found. The girl was so sad, and she didn't know what to do. She searched the forest for hours, but she couldn't find the unicorn.\\n\\nFinally, the girl gave up and went home. She was so sad that she didn't even want to play with her friends. She just went to bed and cried herself to sleep.\\n\\nThe next morning, the girl woke up and found a letter on her pillow. The letter was from the unicorn, and it said that it had to leave. The unicorn said that it had granted the girl all of her wishes, and that it was time for it to move on.\\n\\nThe girl was so sad, but she knew that the unicorn had to leave. She waved goodbye to the unicorn, and she never saw it again.\\n\\nThe girl continued to live her life, and she never forgot the unicorn. She always remembered the wishes that the unicorn had granted her, and she was always grateful for the unicorn's kindness.\": 9,\n",
       " \" Once upon a time, there was a little girl who lived in a small village. She had a very happy life, and she loved to play with her friends. One day, she was playing in the forest when she came across a magical creature. The creature was a beautiful unicorn, and it told the girl that it could grant her one wish. The girl was so excited, and she immediately wished for a new doll. The unicorn granted her wish, and the girl was so happy. She ran home to tell her parents all about it, and they were just as happy as she was.\\n\\nThe next day, the girl went back to the forest to play with the unicorn. This time, the unicorn told her that it could grant her another wish. The girl was so excited, and she immediately wished for a new dress. The unicorn granted her wish, and the girl was so happy. She ran home to tell her parents all about it, and they were just as happy as she was.\\n\\nThe girl continued to visit the unicorn every day, and each time, the unicorn would grant her another wish. The girl wished for all sorts of things, including a new bike, a new computer, and a new house. The unicorn always granted her wishes, and the girl was always so happy.\\n\\nOne day, the girl went to visit the unicorn, but this time, the unicorn was nowhere to be found. The girl was so sad, and she didn't know what to do. She searched all over the forest, but she couldn't find the unicorn anywhere.\\n\\nThe girl finally gave up and went home. She was so sad that she didn't even want to play with her friends. She just sat in her room and cried.\\n\\nThe next day, the girl woke up and found a letter on her bed. The letter was from the unicorn, and it said that it had to leave. The unicorn said that it had granted the girl all of her wishes, and now it was time for it to move on.\\n\\nThe girl was so sad, but she knew that the unicorn had to leave. She waved goodbye to the unicorn as it walked away, and she never saw it again.\\n\\nThe girl never forgot the unicorn, and she always remembered the wishes that it had granted her. She grew up to be a kind and generous woman, and she always helped others. She knew that the unicorn had taught her the importance of kindness and generosity, and she was grateful for the lessons that it had taught her\": 2}"
      ]
     },
     "execution_count": 10,
     "metadata": {},
     "output_type": "execute_result"
    }
   ],
   "source": [
    "count1"
   ]
  },
  {
   "cell_type": "code",
   "execution_count": null,
   "metadata": {},
   "outputs": [],
   "source": []
  }
 ],
 "metadata": {
  "kernelspec": {
   "display_name": "base",
   "language": "python",
   "name": "python3"
  },
  "language_info": {
   "codemirror_mode": {
    "name": "ipython",
    "version": 3
   },
   "file_extension": ".py",
   "mimetype": "text/x-python",
   "name": "python",
   "nbconvert_exporter": "python",
   "pygments_lexer": "ipython3",
   "version": "3.10.9"
  },
  "orig_nbformat": 4,
  "vscode": {
   "interpreter": {
    "hash": "45c55452808652622e444c4b470042fc8939200bd91ac3e438ae79cfd4d9c7c8"
   }
  }
 },
 "nbformat": 4,
 "nbformat_minor": 2
}
